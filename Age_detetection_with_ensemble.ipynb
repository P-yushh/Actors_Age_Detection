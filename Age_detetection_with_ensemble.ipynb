{
  "nbformat": 4,
  "nbformat_minor": 0,
  "metadata": {
    "colab": {
      "name": "Untitled0 (6).ipynb",
      "provenance": [],
      "collapsed_sections": [],
      "include_colab_link": true
    },
    "kernelspec": {
      "name": "python3",
      "display_name": "Python 3"
    },
    "accelerator": "GPU",
    "widgets": {
      "application/vnd.jupyter.widget-state+json": {
        "9d7059d8ce764e3baf75f236156d8a56": {
          "model_module": "@jupyter-widgets/controls",
          "model_name": "HBoxModel",
          "state": {
            "_view_name": "HBoxView",
            "_dom_classes": [],
            "_model_name": "HBoxModel",
            "_view_module": "@jupyter-widgets/controls",
            "_model_module_version": "1.5.0",
            "_view_count": null,
            "_view_module_version": "1.5.0",
            "box_style": "",
            "layout": "IPY_MODEL_b072185894e044b894c6e37fff493b87",
            "_model_module": "@jupyter-widgets/controls",
            "children": [
              "IPY_MODEL_12b1682225cf43b5be12eae09a47904f",
              "IPY_MODEL_e44e046d48a34a6ab2a3fd422836ce14"
            ]
          }
        },
        "14ea0bbb8421476f82db828c5a48c969": {
          "model_module": "@jupyter-widgets/controls",
          "model_name": "HBoxModel",
          "state": {
            "_view_name": "HBoxView",
            "_dom_classes": [],
            "_model_name": "HBoxModel",
            "_view_module": "@jupyter-widgets/controls",
            "_model_module_version": "1.5.0",
            "_view_count": null,
            "_view_module_version": "1.5.0",
            "box_style": "",
            "layout": "IPY_MODEL_3896a8efea3c462a9da1a120b317aa83",
            "_model_module": "@jupyter-widgets/controls",
            "children": [
              "IPY_MODEL_c0c2f0d773c14e4f9d7972da0938e91a",
              "IPY_MODEL_65c57b8e9bb5457e87782104565c8b41"
            ]
          }
        },
        "3896a8efea3c462a9da1a120b317aa83": {
          "model_module": "@jupyter-widgets/base",
          "model_name": "LayoutModel",
          "state": {
            "_view_name": "LayoutView",
            "grid_template_rows": null,
            "right": null,
            "justify_content": null,
            "_view_module": "@jupyter-widgets/base",
            "overflow": null,
            "_model_module_version": "1.2.0",
            "_view_count": null,
            "flex_flow": null,
            "width": null,
            "min_width": null,
            "border": null,
            "align_items": null,
            "bottom": null,
            "_model_module": "@jupyter-widgets/base",
            "top": null,
            "grid_column": null,
            "overflow_y": null,
            "overflow_x": null,
            "grid_auto_flow": null,
            "grid_area": null,
            "grid_template_columns": null,
            "flex": null,
            "_model_name": "LayoutModel",
            "justify_items": null,
            "grid_row": null,
            "max_height": null,
            "align_content": null,
            "visibility": null,
            "align_self": null,
            "height": null,
            "min_height": null,
            "padding": null,
            "grid_auto_rows": null,
            "grid_gap": null,
            "max_width": null,
            "order": null,
            "_view_module_version": "1.2.0",
            "grid_template_areas": null,
            "object_position": null,
            "object_fit": null,
            "grid_auto_columns": null,
            "margin": null,
            "display": null,
            "left": null
          }
        },
        "c0c2f0d773c14e4f9d7972da0938e91a": {
          "model_module": "@jupyter-widgets/controls",
          "model_name": "FloatProgressModel",
          "state": {
            "_view_name": "ProgressView",
            "style": "IPY_MODEL_f8a3da21fb9d47ef92deb93db27a59fb",
            "_dom_classes": [],
            "description": "100%",
            "_model_name": "FloatProgressModel",
            "bar_style": "success",
            "max": 553,
            "_view_module": "@jupyter-widgets/controls",
            "_model_module_version": "1.5.0",
            "value": 553,
            "_view_count": null,
            "_view_module_version": "1.5.0",
            "orientation": "horizontal",
            "min": 0,
            "description_tooltip": null,
            "_model_module": "@jupyter-widgets/controls",
            "layout": "IPY_MODEL_5a214d0e0dc540cd8f6ff3f1acb99d75"
          }
        },
        "65c57b8e9bb5457e87782104565c8b41": {
          "model_module": "@jupyter-widgets/controls",
          "model_name": "HTMLModel",
          "state": {
            "_view_name": "HTMLView",
            "style": "IPY_MODEL_22c13b8d6d694a4cbee298def333052f",
            "_dom_classes": [],
            "description": "",
            "_model_name": "HTMLModel",
            "placeholder": "​",
            "_view_module": "@jupyter-widgets/controls",
            "_model_module_version": "1.5.0",
            "value": " 553/553 [10:34&lt;00:00,  1.15s/it]",
            "_view_count": null,
            "_view_module_version": "1.5.0",
            "description_tooltip": null,
            "_model_module": "@jupyter-widgets/controls",
            "layout": "IPY_MODEL_de4a41019cc041eaaf112abdc56d3cab"
          }
        },
        "f8a3da21fb9d47ef92deb93db27a59fb": {
          "model_module": "@jupyter-widgets/controls",
          "model_name": "ProgressStyleModel",
          "state": {
            "_view_name": "StyleView",
            "_model_name": "ProgressStyleModel",
            "description_width": "initial",
            "_view_module": "@jupyter-widgets/base",
            "_model_module_version": "1.5.0",
            "_view_count": null,
            "_view_module_version": "1.2.0",
            "bar_color": null,
            "_model_module": "@jupyter-widgets/controls"
          }
        },
        "5a214d0e0dc540cd8f6ff3f1acb99d75": {
          "model_module": "@jupyter-widgets/base",
          "model_name": "LayoutModel",
          "state": {
            "_view_name": "LayoutView",
            "grid_template_rows": null,
            "right": null,
            "justify_content": null,
            "_view_module": "@jupyter-widgets/base",
            "overflow": null,
            "_model_module_version": "1.2.0",
            "_view_count": null,
            "flex_flow": null,
            "width": null,
            "min_width": null,
            "border": null,
            "align_items": null,
            "bottom": null,
            "_model_module": "@jupyter-widgets/base",
            "top": null,
            "grid_column": null,
            "overflow_y": null,
            "overflow_x": null,
            "grid_auto_flow": null,
            "grid_area": null,
            "grid_template_columns": null,
            "flex": null,
            "_model_name": "LayoutModel",
            "justify_items": null,
            "grid_row": null,
            "max_height": null,
            "align_content": null,
            "visibility": null,
            "align_self": null,
            "height": null,
            "min_height": null,
            "padding": null,
            "grid_auto_rows": null,
            "grid_gap": null,
            "max_width": null,
            "order": null,
            "_view_module_version": "1.2.0",
            "grid_template_areas": null,
            "object_position": null,
            "object_fit": null,
            "grid_auto_columns": null,
            "margin": null,
            "display": null,
            "left": null
          }
        },
        "22c13b8d6d694a4cbee298def333052f": {
          "model_module": "@jupyter-widgets/controls",
          "model_name": "DescriptionStyleModel",
          "state": {
            "_view_name": "StyleView",
            "_model_name": "DescriptionStyleModel",
            "description_width": "",
            "_view_module": "@jupyter-widgets/base",
            "_model_module_version": "1.5.0",
            "_view_count": null,
            "_view_module_version": "1.2.0",
            "_model_module": "@jupyter-widgets/controls"
          }
        },
        "de4a41019cc041eaaf112abdc56d3cab": {
          "model_module": "@jupyter-widgets/base",
          "model_name": "LayoutModel",
          "state": {
            "_view_name": "LayoutView",
            "grid_template_rows": null,
            "right": null,
            "justify_content": null,
            "_view_module": "@jupyter-widgets/base",
            "overflow": null,
            "_model_module_version": "1.2.0",
            "_view_count": null,
            "flex_flow": null,
            "width": null,
            "min_width": null,
            "border": null,
            "align_items": null,
            "bottom": null,
            "_model_module": "@jupyter-widgets/base",
            "top": null,
            "grid_column": null,
            "overflow_y": null,
            "overflow_x": null,
            "grid_auto_flow": null,
            "grid_area": null,
            "grid_template_columns": null,
            "flex": null,
            "_model_name": "LayoutModel",
            "justify_items": null,
            "grid_row": null,
            "max_height": null,
            "align_content": null,
            "visibility": null,
            "align_self": null,
            "height": null,
            "min_height": null,
            "padding": null,
            "grid_auto_rows": null,
            "grid_gap": null,
            "max_width": null,
            "order": null,
            "_view_module_version": "1.2.0",
            "grid_template_areas": null,
            "object_position": null,
            "object_fit": null,
            "grid_auto_columns": null,
            "margin": null,
            "display": null,
            "left": null
          }
        }
      }
    }
  },
  "cells": [
    {
      "cell_type": "markdown",
      "metadata": {
        "id": "view-in-github",
        "colab_type": "text"
      },
      "source": [
        "<a href=\"https://colab.research.google.com/github/P-yushh/Competitions/blob/master/Age_detetection_with_ensemble.ipynb\" target=\"_parent\"><img src=\"https://colab.research.google.com/assets/colab-badge.svg\" alt=\"Open In Colab\"/></a>"
      ]
    },
    {
      "cell_type": "code",
      "metadata": {
        "id": "OIU8Wpuo6RG4",
        "colab_type": "code",
        "colab": {}
      },
      "source": [
        "import os\n",
        "import time\n",
        "import re\n",
        "import warnings\n",
        "import copy\n",
        "import cv2\n",
        "from tqdm import tqdm_notebook as tqdm\n",
        "import numpy as np\n",
        "import pandas as pd\n",
        "import matplotlib.pyplot as plt\n",
        "import torch\n",
        "import torch.nn as nn\n",
        "import torch.optim as optim\n",
        "import torch.nn.functional as F\n",
        "import torchvision\n",
        "import albumentations as A\n",
        "from albumentations.pytorch import ToTensor\n",
        "from sklearn.model_selection import train_test_split\n",
        "from sklearn.model_selection import StratifiedKFold\n",
        "from torch.autograd import Variable\n",
        "from torchvision import models, datasets\n",
        "from torch.utils.data import DataLoader, Dataset\n",
        "%matplotlib inline\n",
        "%reload_ext autoreload\n",
        "%autoreload 2\n",
        "warnings.filterwarnings('ignore')"
      ],
      "execution_count": 0,
      "outputs": []
    },
    {
      "cell_type": "code",
      "metadata": {
        "id": "CW_-LcjkGIP5",
        "colab_type": "code",
        "outputId": "b7a10708-641e-4d55-d888-98c2d4fa0ef0",
        "colab": {
          "base_uri": "https://localhost:8080/",
          "height": 34
        }
      },
      "source": [
        "!pip -q install timm\n",
        "!pip -q install pytorch_ranger\n",
        "!pip -q install ttach"
      ],
      "execution_count": 0,
      "outputs": [
        {
          "output_type": "stream",
          "text": [
            "\u001b[?25l\r\u001b[K     |█▉                              | 10kB 21.5MB/s eta 0:00:01\r\u001b[K     |███▋                            | 20kB 4.6MB/s eta 0:00:01\r\u001b[K     |█████▌                          | 30kB 5.9MB/s eta 0:00:01\r\u001b[K     |███████▎                        | 40kB 6.1MB/s eta 0:00:01\r\u001b[K     |█████████▏                      | 51kB 4.8MB/s eta 0:00:01\r\u001b[K     |███████████                     | 61kB 5.5MB/s eta 0:00:01\r\u001b[K     |████████████▉                   | 71kB 5.7MB/s eta 0:00:01\r\u001b[K     |██████████████▋                 | 81kB 6.2MB/s eta 0:00:01\r\u001b[K     |████████████████▌               | 92kB 6.2MB/s eta 0:00:01\r\u001b[K     |██████████████████▎             | 102kB 6.0MB/s eta 0:00:01\r\u001b[K     |████████████████████            | 112kB 6.0MB/s eta 0:00:01\r\u001b[K     |██████████████████████          | 122kB 6.0MB/s eta 0:00:01\r\u001b[K     |███████████████████████▊        | 133kB 6.0MB/s eta 0:00:01\r\u001b[K     |█████████████████████████▋      | 143kB 6.0MB/s eta 0:00:01\r\u001b[K     |███████████████████████████▍    | 153kB 6.0MB/s eta 0:00:01\r\u001b[K     |█████████████████████████████▎  | 163kB 6.0MB/s eta 0:00:01\r\u001b[K     |███████████████████████████████ | 174kB 6.0MB/s eta 0:00:01\r\u001b[K     |████████████████████████████████| 184kB 6.0MB/s \n",
            "\u001b[?25h"
          ],
          "name": "stdout"
        }
      ]
    },
    {
      "cell_type": "code",
      "metadata": {
        "id": "G0fbxicvGKDl",
        "colab_type": "code",
        "colab": {}
      },
      "source": [
        "import timm\n",
        "from pytorch_ranger import Ranger\n",
        "import ttach as tta"
      ],
      "execution_count": 0,
      "outputs": []
    },
    {
      "cell_type": "code",
      "metadata": {
        "id": "rEGyM5iodB3M",
        "colab_type": "code",
        "colab": {}
      },
      "source": [
        "def seed_everything(seed):\n",
        "  np.random.seed(seed)\n",
        "  os.environ['PYTHONHASHSEED'] = str(seed)\n",
        "  torch.manual_seed(seed)\n",
        "  if torch.cuda.is_available():\n",
        "    torch.backends.cudnn.deterministic = True\n",
        "    torch.cuda.manual_seed(seed)\n",
        "\n",
        "seed_everything(0)"
      ],
      "execution_count": 0,
      "outputs": []
    },
    {
      "cell_type": "code",
      "metadata": {
        "id": "nvrKEwcid9Zo",
        "colab_type": "code",
        "outputId": "906546d1-d77c-43cb-c176-81b03807eb43",
        "colab": {
          "base_uri": "https://localhost:8080/",
          "height": 34
        }
      },
      "source": [
        "device = torch.device('cuda' if torch.cuda.is_available else 'cpu')\n",
        "device"
      ],
      "execution_count": 0,
      "outputs": [
        {
          "output_type": "execute_result",
          "data": {
            "text/plain": [
              "device(type='cuda')"
            ]
          },
          "metadata": {
            "tags": []
          },
          "execution_count": 5
        }
      ]
    },
    {
      "cell_type": "code",
      "metadata": {
        "id": "0vNOWpOAsnWL",
        "colab_type": "code",
        "colab": {}
      },
      "source": [
        "# DOWNLOAD DATASETS\n",
        "!wget -q https://datahack-prod.s3.amazonaws.com/train_zip/train_DETg9GD.zip\n",
        "!wget -q https://datahack-prod.s3.amazonaws.com/test_zip/test_Bh8pGW3.zip\n",
        "!wget -q https://datahack-prod.s3.amazonaws.com/sample_submission/sample_submission_sDO3m7O.csv\n",
        "\n",
        "!unzip -q train_DETg9GD.zip\n",
        "!unzip -q test_Bh8pGW3.zip \n",
        "\n",
        "!rm test_Bh8pGW3.zip\n",
        "!rm train_DETg9GD.zip"
      ],
      "execution_count": 0,
      "outputs": []
    },
    {
      "cell_type": "code",
      "metadata": {
        "id": "-iyvOAqttj1F",
        "colab_type": "code",
        "outputId": "3e111f85-fafd-4eae-9e75-320d631a5855",
        "colab": {
          "base_uri": "https://localhost:8080/",
          "height": 195
        }
      },
      "source": [
        "# LOADING DATASET\n",
        "traincsv = pd.read_csv('train.csv')\n",
        "test = pd.read_csv('test.csv')\n",
        "sample = pd.read_csv('sample_submission_sDO3m7O.csv')\n",
        "col_class = sample['Class']\n",
        "col_class = pd.DataFrame(col_class, columns=['Class'])\n",
        "test = pd.concat([test, col_class], axis=1)\n",
        "traincsv.head()"
      ],
      "execution_count": 0,
      "outputs": [
        {
          "output_type": "execute_result",
          "data": {
            "text/html": [
              "<div>\n",
              "<style scoped>\n",
              "    .dataframe tbody tr th:only-of-type {\n",
              "        vertical-align: middle;\n",
              "    }\n",
              "\n",
              "    .dataframe tbody tr th {\n",
              "        vertical-align: top;\n",
              "    }\n",
              "\n",
              "    .dataframe thead th {\n",
              "        text-align: right;\n",
              "    }\n",
              "</style>\n",
              "<table border=\"1\" class=\"dataframe\">\n",
              "  <thead>\n",
              "    <tr style=\"text-align: right;\">\n",
              "      <th></th>\n",
              "      <th>ID</th>\n",
              "      <th>Class</th>\n",
              "    </tr>\n",
              "  </thead>\n",
              "  <tbody>\n",
              "    <tr>\n",
              "      <th>0</th>\n",
              "      <td>377.jpg</td>\n",
              "      <td>MIDDLE</td>\n",
              "    </tr>\n",
              "    <tr>\n",
              "      <th>1</th>\n",
              "      <td>17814.jpg</td>\n",
              "      <td>YOUNG</td>\n",
              "    </tr>\n",
              "    <tr>\n",
              "      <th>2</th>\n",
              "      <td>21283.jpg</td>\n",
              "      <td>MIDDLE</td>\n",
              "    </tr>\n",
              "    <tr>\n",
              "      <th>3</th>\n",
              "      <td>16496.jpg</td>\n",
              "      <td>YOUNG</td>\n",
              "    </tr>\n",
              "    <tr>\n",
              "      <th>4</th>\n",
              "      <td>4487.jpg</td>\n",
              "      <td>MIDDLE</td>\n",
              "    </tr>\n",
              "  </tbody>\n",
              "</table>\n",
              "</div>"
            ],
            "text/plain": [
              "          ID   Class\n",
              "0    377.jpg  MIDDLE\n",
              "1  17814.jpg   YOUNG\n",
              "2  21283.jpg  MIDDLE\n",
              "3  16496.jpg   YOUNG\n",
              "4   4487.jpg  MIDDLE"
            ]
          },
          "metadata": {
            "tags": []
          },
          "execution_count": 7
        }
      ]
    },
    {
      "cell_type": "code",
      "metadata": {
        "id": "WAv5FNocb1Qf",
        "colab_type": "code",
        "outputId": "1ac9f3ea-61da-4b12-c9d5-715a7e8c1e46",
        "colab": {
          "base_uri": "https://localhost:8080/",
          "height": 50
        }
      },
      "source": [
        "classes = np.unique(traincsv['Class'])\n",
        "num_classes = len(classes)\n",
        "print(classes)\n",
        "print(num_classes)"
      ],
      "execution_count": 0,
      "outputs": [
        {
          "output_type": "stream",
          "text": [
            "['MIDDLE' 'OLD' 'YOUNG']\n",
            "3\n"
          ],
          "name": "stdout"
        }
      ]
    },
    {
      "cell_type": "code",
      "metadata": {
        "id": "e6HSfeCxjetJ",
        "colab_type": "code",
        "colab": {}
      },
      "source": [
        "def showimg(img, unnormalize=True):\n",
        "  if unnormalize:\n",
        "    img = img * 0.5 + 0.5\n",
        "  npimg = img.numpy()\n",
        "  plt.imshow(np.transpose(npimg, (1,2,0)))\n",
        "\n",
        "def plot_loss(train, val):\n",
        "  x = np.arange(1, len(train)+1)\n",
        "  plt.figure(figsize=(10,6))\n",
        "  plt.plot(x, train, label='Training Loss')\n",
        "  plt.plot(x, val, label='Validation Loss')\n",
        "  plt.xlabel('Epoch')\n",
        "  plt.ylabel('Loss')\n",
        "  plt.title('Training and Validation Losses!')\n",
        "  plt.legend(loc='upper right')\n",
        "  plt.show()"
      ],
      "execution_count": 0,
      "outputs": []
    },
    {
      "cell_type": "code",
      "metadata": {
        "id": "yS5fJhE1rMmN",
        "colab_type": "code",
        "colab": {}
      },
      "source": [
        "# MAKING DATALOADER\n",
        "class load_data(Dataset):\n",
        "  def __init__(self, df, root, phase):\n",
        "    self.df = df\n",
        "    self.dir = root\n",
        "    if phase == 'train':\n",
        "      self.transforms = A.Compose([A.Resize(320,320), A.RandomCrop(300,300), A.HorizontalFlip(),\n",
        "                                   A.RGBShift(), A.Rotate(30), A.HueSaturationValue(), A.CLAHE(),\n",
        "                                   A.GaussNoise(), A.Blur(), A.Cutout(), A.RandomBrightnessContrast(),\n",
        "                        A.Normalize([0.485, 0.456, 0.406], [0.229, 0.224, 0.225]), ToTensor()])\n",
        "    else:\n",
        "      self.transforms = A.Compose([A.Resize(320,320), A.RandomCrop(300,300), A.Normalize([0.485, 0.456, 0.406], [0.229, 0.224, 0.225]), ToTensor()])\n",
        "\n",
        "  def __len__(self):\n",
        "    return len(self.df)\n",
        "\n",
        "  def __getitem__(self, idx):\n",
        "    img_id = self.df['ID'].iloc[idx]\n",
        "    img_path = os.path.join(self.dir, str(img_id))\n",
        "    labels = self.df.iloc[idx, 1:].to_numpy()\n",
        "    labels = np.argmax(labels)\n",
        "    img = plt.imread(img_path)\n",
        "    img = self.transforms(image=np.array(img))['image']\n",
        "    return img, labels"
      ],
      "execution_count": 0,
      "outputs": []
    },
    {
      "cell_type": "code",
      "metadata": {
        "id": "EaW_uw0xbTDN",
        "colab_type": "code",
        "colab": {}
      },
      "source": [
        "def cvrt_to_dumm(data):\n",
        "  data = pd.get_dummies(data, columns=['Class'], prefix='Class')\n",
        "  return data"
      ],
      "execution_count": 0,
      "outputs": []
    },
    {
      "cell_type": "code",
      "metadata": {
        "id": "UIp8hcQW53DW",
        "colab_type": "code",
        "outputId": "bdaf9b6d-5796-47cf-81b3-54443e53e3d3",
        "colab": {
          "base_uri": "https://localhost:8080/",
          "height": 195
        }
      },
      "source": [
        "# SPLITTING DATASET INTO TRAINING AND VALIDATION SET\n",
        "sfk = StratifiedKFold(n_splits=7)\n",
        "for trn_idx, val_idx in sfk.split(traincsv['Class'], traincsv['Class']):\n",
        "    train = pd.DataFrame(traincsv.loc[trn_idx].values)\n",
        "    val = pd.DataFrame(traincsv.loc[val_idx].values)\n",
        "val.rename(columns={0:'ID',1:'Class'}, inplace=True)\n",
        "train.rename(columns={0:'ID',1:'Class'}, inplace=True)\n",
        "train = cvrt_to_dumm(train)\n",
        "val = cvrt_to_dumm(val)\n",
        "train.head()"
      ],
      "execution_count": 0,
      "outputs": [
        {
          "output_type": "execute_result",
          "data": {
            "text/html": [
              "<div>\n",
              "<style scoped>\n",
              "    .dataframe tbody tr th:only-of-type {\n",
              "        vertical-align: middle;\n",
              "    }\n",
              "\n",
              "    .dataframe tbody tr th {\n",
              "        vertical-align: top;\n",
              "    }\n",
              "\n",
              "    .dataframe thead th {\n",
              "        text-align: right;\n",
              "    }\n",
              "</style>\n",
              "<table border=\"1\" class=\"dataframe\">\n",
              "  <thead>\n",
              "    <tr style=\"text-align: right;\">\n",
              "      <th></th>\n",
              "      <th>ID</th>\n",
              "      <th>Class_MIDDLE</th>\n",
              "      <th>Class_OLD</th>\n",
              "      <th>Class_YOUNG</th>\n",
              "    </tr>\n",
              "  </thead>\n",
              "  <tbody>\n",
              "    <tr>\n",
              "      <th>0</th>\n",
              "      <td>377.jpg</td>\n",
              "      <td>1</td>\n",
              "      <td>0</td>\n",
              "      <td>0</td>\n",
              "    </tr>\n",
              "    <tr>\n",
              "      <th>1</th>\n",
              "      <td>17814.jpg</td>\n",
              "      <td>0</td>\n",
              "      <td>0</td>\n",
              "      <td>1</td>\n",
              "    </tr>\n",
              "    <tr>\n",
              "      <th>2</th>\n",
              "      <td>21283.jpg</td>\n",
              "      <td>1</td>\n",
              "      <td>0</td>\n",
              "      <td>0</td>\n",
              "    </tr>\n",
              "    <tr>\n",
              "      <th>3</th>\n",
              "      <td>16496.jpg</td>\n",
              "      <td>0</td>\n",
              "      <td>0</td>\n",
              "      <td>1</td>\n",
              "    </tr>\n",
              "    <tr>\n",
              "      <th>4</th>\n",
              "      <td>4487.jpg</td>\n",
              "      <td>1</td>\n",
              "      <td>0</td>\n",
              "      <td>0</td>\n",
              "    </tr>\n",
              "  </tbody>\n",
              "</table>\n",
              "</div>"
            ],
            "text/plain": [
              "          ID  Class_MIDDLE  Class_OLD  Class_YOUNG\n",
              "0    377.jpg             1          0            0\n",
              "1  17814.jpg             0          0            1\n",
              "2  21283.jpg             1          0            0\n",
              "3  16496.jpg             0          0            1\n",
              "4   4487.jpg             1          0            0"
            ]
          },
          "metadata": {
            "tags": []
          },
          "execution_count": 12
        }
      ]
    },
    {
      "cell_type": "code",
      "metadata": {
        "id": "Iq5q3YEaTj80",
        "colab_type": "code",
        "colab": {}
      },
      "source": [
        "#DEFINING DATALOADER\n",
        "trainset = load_data(train, 'Train', 'train')\n",
        "valset = load_data(val, 'Train', 'eval')\n",
        "testset = load_data(test, 'Test', 'eval')\n",
        "def dataloader(batch_size):\n",
        "  tdl = DataLoader(trainset, batch_size=batch_size, shuffle=False, pin_memory=True, num_workers=4)\n",
        "  vdl = DataLoader(valset, batch_size=batch_size, pin_memory=False, num_workers=4)\n",
        "  return {'train':tdl, 'val':vdl}"
      ],
      "execution_count": 0,
      "outputs": []
    },
    {
      "cell_type": "code",
      "metadata": {
        "id": "nzmtnf2jlTGE",
        "colab_type": "code",
        "outputId": "6690ac02-9515-4525-f4b8-79a31cfdda45",
        "colab": {
          "base_uri": "https://localhost:8080/",
          "height": 212
        }
      },
      "source": [
        "# SHOWING IMAGES (ONLY 4 FOR BREVITY)\n",
        "images, label = next(iter(tdl))\n",
        "showimg(torchvision.utils.make_grid(images))\n",
        "print(' '.join('{:>10}'.format(classes[label[j]]) for j in range(batch_size)))"
      ],
      "execution_count": 0,
      "outputs": [
        {
          "output_type": "error",
          "ename": "NameError",
          "evalue": "ignored",
          "traceback": [
            "\u001b[0;31m---------------------------------------------------------------------------\u001b[0m",
            "\u001b[0;31mNameError\u001b[0m                                 Traceback (most recent call last)",
            "\u001b[0;32m<ipython-input-14-75acde25afc8>\u001b[0m in \u001b[0;36m<module>\u001b[0;34m()\u001b[0m\n\u001b[1;32m      1\u001b[0m \u001b[0;31m# SHOWING IMAGES (ONLY 4 FOR BREVITY)\u001b[0m\u001b[0;34m\u001b[0m\u001b[0;34m\u001b[0m\u001b[0;34m\u001b[0m\u001b[0m\n\u001b[0;32m----> 2\u001b[0;31m \u001b[0mimages\u001b[0m\u001b[0;34m,\u001b[0m \u001b[0mlabel\u001b[0m \u001b[0;34m=\u001b[0m \u001b[0mnext\u001b[0m\u001b[0;34m(\u001b[0m\u001b[0miter\u001b[0m\u001b[0;34m(\u001b[0m\u001b[0mtdl\u001b[0m\u001b[0;34m)\u001b[0m\u001b[0;34m)\u001b[0m\u001b[0;34m\u001b[0m\u001b[0;34m\u001b[0m\u001b[0m\n\u001b[0m\u001b[1;32m      3\u001b[0m \u001b[0mshowimg\u001b[0m\u001b[0;34m(\u001b[0m\u001b[0mtorchvision\u001b[0m\u001b[0;34m.\u001b[0m\u001b[0mutils\u001b[0m\u001b[0;34m.\u001b[0m\u001b[0mmake_grid\u001b[0m\u001b[0;34m(\u001b[0m\u001b[0mimages\u001b[0m\u001b[0;34m)\u001b[0m\u001b[0;34m)\u001b[0m\u001b[0;34m\u001b[0m\u001b[0;34m\u001b[0m\u001b[0m\n\u001b[1;32m      4\u001b[0m \u001b[0mprint\u001b[0m\u001b[0;34m(\u001b[0m\u001b[0;34m' '\u001b[0m\u001b[0;34m.\u001b[0m\u001b[0mjoin\u001b[0m\u001b[0;34m(\u001b[0m\u001b[0;34m'{:>10}'\u001b[0m\u001b[0;34m.\u001b[0m\u001b[0mformat\u001b[0m\u001b[0;34m(\u001b[0m\u001b[0mclasses\u001b[0m\u001b[0;34m[\u001b[0m\u001b[0mlabel\u001b[0m\u001b[0;34m[\u001b[0m\u001b[0mj\u001b[0m\u001b[0;34m]\u001b[0m\u001b[0;34m]\u001b[0m\u001b[0;34m)\u001b[0m \u001b[0;32mfor\u001b[0m \u001b[0mj\u001b[0m \u001b[0;32min\u001b[0m \u001b[0mrange\u001b[0m\u001b[0;34m(\u001b[0m\u001b[0mbatch_size\u001b[0m\u001b[0;34m)\u001b[0m\u001b[0;34m)\u001b[0m\u001b[0;34m)\u001b[0m\u001b[0;34m\u001b[0m\u001b[0;34m\u001b[0m\u001b[0m\n",
            "\u001b[0;31mNameError\u001b[0m: name 'tdl' is not defined"
          ]
        }
      ]
    },
    {
      "cell_type": "code",
      "metadata": {
        "id": "cpEDKzkFpUBv",
        "colab_type": "code",
        "colab": {}
      },
      "source": [
        "#DEFINING TRAINER\n",
        "def train_it(model, dataloader, criterion, optimizer, scheduler, epochs, verbose=False, load_model=False):\n",
        "  since = time.time()\n",
        "  train_history = []\n",
        "  val_history = []\n",
        "  best_loss = np.inf\n",
        "  best_val_acc = 0\n",
        "  if load_model:\n",
        "    checkpoint = torch.load('model.pth')\n",
        "    model.load_state_dict(checkpoint['state'])\n",
        "    optimizer.load_state_dict(checkpoint['optimizer'])\n",
        "    scheduler.load_state_dict(checkpoint['scheduler'])\n",
        "    epoch = checkpoint['epoch']\n",
        "    best_loss = checkpoint['best_loss']\n",
        "\n",
        "  train_ldr = dataloader['train']\n",
        "  val_ldr = dataloader['val']\n",
        "\n",
        "  model.train()\n",
        "  for epoch in range(1, epochs+1):\n",
        "    print('Starting Epoch: {} of {}'.format(epoch, epochs))\n",
        "    start = time.time()\n",
        "    tk0 = tqdm(dataloader['train'], desc='Training', total=len(dataloader['train']), position=0)\n",
        "    total_train_loss = 0.0\n",
        "    running_acc = 0.0\n",
        "    for i, (img, labels) in enumerate(tk0):\n",
        "      img, labels = img.to(device), labels.to(device)\n",
        "\n",
        "      optimizer.zero_grad()\n",
        "      score = model(img)\n",
        "      loss = criterion(score, labels)\n",
        "      loss.backward()\n",
        "      optimizer.step()\n",
        "      _, pred = torch.max(score, dim=1)\n",
        "      running_acc += torch.sum(pred==labels.data)\n",
        "      \n",
        "      total_train_loss += loss.item()*img.size(0)\n",
        "      tk0.set_postfix(loss = (total_train_loss / ((i+1)*batch_size)))\n",
        "\n",
        "    epoch_train_acc = running_acc.double() / len(dataloader['train'].dataset)\n",
        "    timer = time.time() - start\n",
        "    if verbose:\n",
        "      print(f'Train Loss: {total_train_loss/len(dataloader[\"train\"].dataset):.4f} \\t Train accuracy: {epoch_train_acc.item():.4f}')\n",
        "\n",
        "    train_history.append(total_train_loss / len(dataloader['train'].dataset))\n",
        "    \n",
        "    # EVALUATING NOW...\n",
        "\n",
        "    model.eval()\n",
        "    total_val_loss = 0.0\n",
        "    running_val_acc = 0.0\n",
        "    with torch.no_grad():\n",
        "      if verbose:\n",
        "        print('Starting Validation...')\n",
        "      tk1 = tqdm(dataloader['val'], desc='Validating', total=len(dataloader['val']))\n",
        "      for j, (img, labels) in enumerate(tk1):\n",
        "        img, labels = img.to(device), labels.to(device)\n",
        "        \n",
        "        val_score = model(img)\n",
        "        val_loss = criterion(val_score, labels)\n",
        "        total_val_loss += val_loss.item() * img.size(0)\n",
        "        _, vpred = torch.max(val_score, dim=1)\n",
        "        running_val_acc += torch.sum(vpred==labels.data)\n",
        "        tk1.set_postfix(loss=(total_val_loss / ((j+1)*batch_size)))\n",
        "\n",
        "    epoch_val_loss = total_val_loss / len(dataloader['val'].dataset)\n",
        "    val_history.append(epoch_val_loss)\n",
        "    val_acc = running_val_acc / len(dataloader['val'].dataset)\n",
        "    \n",
        "    \n",
        "    if scheduler:\n",
        "      scheduler.step(epoch_val_loss)\n",
        "    if best_val_acc < val_acc:\n",
        "      state = {'epoch':epoch, 'best_loss':best_loss,\n",
        "             'state':model.state_dict(), 'optimizer':optimizer.state_dict(),\n",
        "             'scheduler':scheduler.state_dict()}\n",
        "      state['best_loss'] = best_loss = epoch_val_loss\n",
        "      torch.save(state, 'model.pth')\n",
        "    if verbose:\n",
        "      print(f'Validation loss = {epoch_val_loss:.4f} \\t Validation accuracy = {val_acc:.4f}')\n",
        "      print('`````````````````````````````````````````````````````````````````````````````````````````')\n",
        "  timer = time.time() - since\n",
        "  if verbose:\n",
        "    print(\"Training Finished, took {}m {:.2f}s\".format(timer//60, timer%60))\n",
        "\n",
        "  return train_history, val_history"
      ],
      "execution_count": 0,
      "outputs": []
    },
    {
      "cell_type": "code",
      "metadata": {
        "id": "dFbG4Gaao7pk",
        "colab_type": "code",
        "colab": {}
      },
      "source": [
        "def test_it(model, testldr):\n",
        "  model.eval()\n",
        "  final_pred = []\n",
        "  with torch.no_grad():\n",
        "    tk3 = tqdm(testldr, total=len(testldr))\n",
        "    for (img, label) in tk3:\n",
        "      img, label = img.to(device), label.to(device)\n",
        "      output = model(img)\n",
        "      _, pred = torch.max(output, dim=1)\n",
        "      final_pred.append(pred.cpu().numpy().data)\n",
        "\n",
        "    final_pred = np.concatenate(final_pred)\n",
        "    testcopy['Class'] = final_pred\n",
        "  return testcopy"
      ],
      "execution_count": 0,
      "outputs": []
    },
    {
      "cell_type": "code",
      "metadata": {
        "id": "HZwX2aLyAzr0",
        "colab_type": "code",
        "colab": {}
      },
      "source": [
        "# DEFINING ENSEMBLES\n",
        "class MyEnsemble(nn.Module):\n",
        "  def __init__(self, model1, model2, model3=None, model4=None, model5=None, n_classes=3):\n",
        "    super(MyEnsemble, self).__init__()\n",
        "    self.model1 = model1\n",
        "    self.model2 = model2\n",
        "    self.model3 = None\n",
        "    self.model4 = None\n",
        "    self.model5 = None\n",
        "    f1 = model1.classifier.out_features\n",
        "    f2 = model2.classifier.out_features\n",
        "    f3 = f4 = f5 = 0\n",
        "    if model3:\n",
        "      self.model3 = model3\n",
        "      f3 = model3.classifier.out_features\n",
        "    if model4:\n",
        "      self.model4 = model4\n",
        "      f4 = model4.classifier.out_features\n",
        "    if model5:\n",
        "      self.model5 = model5\n",
        "      f5 = model5.classifier.out_features\n",
        "    self.dropout = nn.Dropout(0.2)\n",
        "    self.classifier = nn.Sequential(nn.Linear(f1+f2+f3+f4+f5, n_classes*2), nn.Dropout(0.2), nn.ReLU(),\n",
        "                                    nn.Linear(n_classes*2, n_classes))\n",
        "\n",
        "  def forward(self, x):\n",
        "    y1 = self.model1(x.clone())\n",
        "    y1 = y1.view(y1.size(0), -1)\n",
        "    y2 = self.model2(x.clone())\n",
        "    y2 = y2.view(y2.size(0), -1)\n",
        "    temp=0\n",
        "    if self.model3:\n",
        "      y3 = self.model3(x.clone())\n",
        "      y3 = y3.view(y3.size(0), -1)\n",
        "      temp=1\n",
        "    if self.model4:\n",
        "      y4 = self.model4(x.clone())\n",
        "      y4 = y4.view(y4.size(0), -1)\n",
        "      temp=2\n",
        "    if self.model5:\n",
        "      y5 = self.model5(x.clone())\n",
        "      y5 = y5.view(y5.size(0), -1)\n",
        "      temp=3\n",
        "    \n",
        "    if temp==0:\n",
        "      y = torch.cat((y1, y2), dim=1)\n",
        "    elif temp==1:\n",
        "      y = torch.cat((y1, y2, y3), dim=1)\n",
        "    elif temp==2:\n",
        "      y = torch.cat((y1, y2, y3, y4), dim=1)\n",
        "    else:\n",
        "      y = torch.cat((y1, y2, y3, y4, y5), dim=1)\n",
        "    y = self.dropout(y)\n",
        "    out = self.classifier(F.relu(y))\n",
        "    return out"
      ],
      "execution_count": 0,
      "outputs": []
    },
    {
      "cell_type": "code",
      "metadata": {
        "id": "xfVrfygb7_wK",
        "colab_type": "code",
        "outputId": "bc5a6402-3e31-4109-fc85-299c1c4c0453",
        "colab": {
          "base_uri": "https://localhost:8080/",
          "height": 70
        }
      },
      "source": [
        "# DOWNLOADING MODEL\n",
        "model1 = timm.create_model('efficientnet_b3', pretrained=True, num_classes=128, drop_rate=0.2)\n",
        "model2 = timm.create_model('efficientnet_b2', pretrained=True, num_classes=128, drop_rate=0.25)\n",
        "#model3 = timm.create_model('efficientnet_b1', pretrained=True, num_classes=128, drop_rate=0.25)\n",
        "#model_classes = model.classifier.in_features"
      ],
      "execution_count": 0,
      "outputs": [
        {
          "output_type": "stream",
          "text": [
            "Downloading: \"https://github.com/rwightman/pytorch-image-models/releases/download/v0.1-weights/efficientnet_b3_ra-a5e2fbc7.pth\" to /root/.cache/torch/checkpoints/efficientnet_b3_ra-a5e2fbc7.pth\n",
            "Downloading: \"https://github.com/rwightman/pytorch-image-models/releases/download/v0.1-weights/efficientnet_b2_ra-bcdf34b7.pth\" to /root/.cache/torch/checkpoints/efficientnet_b2_ra-bcdf34b7.pth\n"
          ],
          "name": "stderr"
        }
      ]
    },
    {
      "cell_type": "code",
      "metadata": {
        "id": "HDaNwe45msN3",
        "colab_type": "code",
        "colab": {}
      },
      "source": [
        "# DEFINING MODEL PARAMS\n",
        "#model.classifier = nn.Sequential(nn.Linear(model_classes, num_classes*2), nn.Dropout(0.2), nn.ReLU(), nn.Linear(num_classes*2, num_classes))\n",
        "#model1 = model1.to(device)\n",
        "#model2 = model2.to(device)\n",
        "#model3 = model3.to(device)\n",
        "model = MyEnsemble(model1, model2)\n",
        "model = model.to(device)\n",
        "#optimizer = optim.Adam(model.fc.parameters(), lr=2e-4, betas=(0.9, 0.999),weight_decay=0.004)\n",
        "optimizer = Ranger(model.parameters(), lr=1e-4, weight_decay=0.001)\n",
        "criterion = nn.CrossEntropyLoss()\n",
        "scheduler = optim.lr_scheduler.ReduceLROnPlateau(optimizer, factor=0.3, mode='min', threshold=0.01, patience=2, verbose=True)\n"
      ],
      "execution_count": 0,
      "outputs": []
    },
    {
      "cell_type": "code",
      "metadata": {
        "id": "Cc43dBIMPb0M",
        "colab_type": "code",
        "colab": {}
      },
      "source": [
        "batch_size = 26\n",
        "dataldr = dataloader(batch_size)"
      ],
      "execution_count": 0,
      "outputs": []
    },
    {
      "cell_type": "code",
      "metadata": {
        "id": "pICLcJEXkyXx",
        "colab_type": "code",
        "outputId": "77ac6085-e9cf-4db6-e42c-56ddc0f19ddd",
        "colab": {
          "base_uri": "https://localhost:8080/",
          "referenced_widgets": [
            "9d7059d8ce764e3baf75f236156d8a56"
          ]
        }
      },
      "source": [
        "train_hist, val_hist = train_it(model,  dataldr, criterion, optimizer, scheduler, 5, verbose=True, load_model=True)"
      ],
      "execution_count": 28,
      "outputs": [
        {
          "output_type": "stream",
          "text": [
            "Starting Epoch: 1 of 5\n"
          ],
          "name": "stdout"
        },
        {
          "output_type": "display_data",
          "data": {
            "application/vnd.jupyter.widget-view+json": {
              "model_id": "9d7059d8ce764e3baf75f236156d8a56",
              "version_minor": 0,
              "version_major": 2
            },
            "text/plain": [
              "HBox(children=(FloatProgress(value=0.0, description='Training', max=657.0, style=ProgressStyle(description_wid…"
            ]
          },
          "metadata": {
            "tags": []
          }
        },
        {
          "output_type": "stream",
          "text": [
            "\n",
            "Train Loss: 0.4514 \t Train accuracy: 0.8159\n",
            "Starting Validation...\n"
          ],
          "name": "stdout"
        },
        {
          "output_type": "display_data",
          "data": {
            "application/vnd.jupyter.widget-view+json": {
              "model_id": "81285130f4174c15aa5ca64e316288e0",
              "version_minor": 0,
              "version_major": 2
            },
            "text/plain": [
              "HBox(children=(FloatProgress(value=0.0, description='Validating', max=110.0, style=ProgressStyle(description_w…"
            ]
          },
          "metadata": {
            "tags": []
          }
        },
        {
          "output_type": "stream",
          "text": [
            "\n",
            "Validation loss = 0.3849 \t Validation accuracy = 0.8646\n",
            "`````````````````````````````````````````````````````````````````````````````````````````\n",
            "Starting Epoch: 2 of 5\n"
          ],
          "name": "stdout"
        },
        {
          "output_type": "display_data",
          "data": {
            "application/vnd.jupyter.widget-view+json": {
              "model_id": "e0f75633aab84307ababa6d8c661b8f3",
              "version_minor": 0,
              "version_major": 2
            },
            "text/plain": [
              "HBox(children=(FloatProgress(value=0.0, description='Training', max=657.0, style=ProgressStyle(description_wid…"
            ]
          },
          "metadata": {
            "tags": []
          }
        },
        {
          "output_type": "stream",
          "text": [
            "\n",
            "Train Loss: 0.1511 \t Train accuracy: 0.9437\n",
            "Starting Validation...\n"
          ],
          "name": "stdout"
        },
        {
          "output_type": "display_data",
          "data": {
            "application/vnd.jupyter.widget-view+json": {
              "model_id": "7b5eebfeeaf146a6a8afe6e95648a00d",
              "version_minor": 0,
              "version_major": 2
            },
            "text/plain": [
              "HBox(children=(FloatProgress(value=0.0, description='Validating', max=110.0, style=ProgressStyle(description_w…"
            ]
          },
          "metadata": {
            "tags": []
          }
        },
        {
          "output_type": "stream",
          "text": [
            "\n",
            "Epoch    18: reducing learning rate of group 0 to 2.7000e-06.\n",
            "Validation loss = 0.3752 \t Validation accuracy = 0.8903\n",
            "`````````````````````````````````````````````````````````````````````````````````````````\n",
            "Starting Epoch: 3 of 5\n"
          ],
          "name": "stdout"
        },
        {
          "output_type": "display_data",
          "data": {
            "application/vnd.jupyter.widget-view+json": {
              "model_id": "4e401ca70f974718bd722f4ddc14082d",
              "version_minor": 0,
              "version_major": 2
            },
            "text/plain": [
              "HBox(children=(FloatProgress(value=0.0, description='Training', max=657.0, style=ProgressStyle(description_wid…"
            ]
          },
          "metadata": {
            "tags": []
          }
        },
        {
          "output_type": "stream",
          "text": [
            "\n",
            "Train Loss: 0.0978 \t Train accuracy: 0.9647\n",
            "Starting Validation...\n"
          ],
          "name": "stdout"
        },
        {
          "output_type": "display_data",
          "data": {
            "application/vnd.jupyter.widget-view+json": {
              "model_id": "08df7bc6f55b430fbb7950bd4c943a7a",
              "version_minor": 0,
              "version_major": 2
            },
            "text/plain": [
              "HBox(children=(FloatProgress(value=0.0, description='Validating', max=110.0, style=ProgressStyle(description_w…"
            ]
          },
          "metadata": {
            "tags": []
          }
        },
        {
          "output_type": "stream",
          "text": [
            "\n",
            "Validation loss = 0.3794 \t Validation accuracy = 0.8892\n",
            "`````````````````````````````````````````````````````````````````````````````````````````\n",
            "Starting Epoch: 4 of 5\n"
          ],
          "name": "stdout"
        },
        {
          "output_type": "display_data",
          "data": {
            "application/vnd.jupyter.widget-view+json": {
              "model_id": "0d7545de08c84ff38e6a5491ae8c8cea",
              "version_minor": 0,
              "version_major": 2
            },
            "text/plain": [
              "HBox(children=(FloatProgress(value=0.0, description='Training', max=657.0, style=ProgressStyle(description_wid…"
            ]
          },
          "metadata": {
            "tags": []
          }
        },
        {
          "output_type": "stream",
          "text": [
            "\n",
            "Train Loss: 0.0922 \t Train accuracy: 0.9659\n",
            "Starting Validation...\n"
          ],
          "name": "stdout"
        },
        {
          "output_type": "display_data",
          "data": {
            "application/vnd.jupyter.widget-view+json": {
              "model_id": "0fd349fb114e47f481daddc2a33143a6",
              "version_minor": 0,
              "version_major": 2
            },
            "text/plain": [
              "HBox(children=(FloatProgress(value=0.0, description='Validating', max=110.0, style=ProgressStyle(description_w…"
            ]
          },
          "metadata": {
            "tags": []
          }
        },
        {
          "output_type": "stream",
          "text": [
            "\n",
            "Validation loss = 0.3892 \t Validation accuracy = 0.8934\n",
            "`````````````````````````````````````````````````````````````````````````````````````````\n",
            "Starting Epoch: 5 of 5\n"
          ],
          "name": "stdout"
        },
        {
          "output_type": "display_data",
          "data": {
            "application/vnd.jupyter.widget-view+json": {
              "model_id": "3a7346b872a046f591176c09896ac9d0",
              "version_minor": 0,
              "version_major": 2
            },
            "text/plain": [
              "HBox(children=(FloatProgress(value=0.0, description='Training', max=657.0, style=ProgressStyle(description_wid…"
            ]
          },
          "metadata": {
            "tags": []
          }
        },
        {
          "output_type": "stream",
          "text": [
            "\n",
            "Train Loss: 0.0774 \t Train accuracy: 0.9714\n",
            "Starting Validation...\n"
          ],
          "name": "stdout"
        },
        {
          "output_type": "display_data",
          "data": {
            "application/vnd.jupyter.widget-view+json": {
              "model_id": "6ace2832cd5545d797c89a7ff7cf143b",
              "version_minor": 0,
              "version_major": 2
            },
            "text/plain": [
              "HBox(children=(FloatProgress(value=0.0, description='Validating', max=110.0, style=ProgressStyle(description_w…"
            ]
          },
          "metadata": {
            "tags": []
          }
        },
        {
          "output_type": "stream",
          "text": [
            "\n",
            "Epoch    21: reducing learning rate of group 0 to 8.1000e-07.\n",
            "Validation loss = 0.4145 \t Validation accuracy = 0.8899\n",
            "`````````````````````````````````````````````````````````````````````````````````````````\n",
            "Training Finished, took 45.0m 19.05s\n"
          ],
          "name": "stdout"
        }
      ]
    },
    {
      "cell_type": "code",
      "metadata": {
        "id": "sTai1aB7kdTn",
        "colab_type": "code",
        "outputId": "8fb8a23c-fec0-4e49-fb23-6b29d8448ac2",
        "colab": {
          "base_uri": "https://localhost:8080/",
          "height": 404
        }
      },
      "source": [
        " # PLOTTING LOSSES\n",
        "plot_loss(train_hist, val_hist)"
      ],
      "execution_count": 0,
      "outputs": [
        {
          "output_type": "display_data",
          "data": {
            "image/png": "[encoded data removed]",
            "text/plain": [
              "<Figure size 720x432 with 1 Axes>"
            ]
          },
          "metadata": {
            "tags": [],
            "needs_background": "light"
          }
        }
      ]
    },
    {
      "cell_type": "code",
      "metadata": {
        "id": "JcpfyJnj7U5w",
        "colab_type": "code",
        "outputId": "b863f991-2b23-4f16-ccfa-87be83229fbf",
        "colab": {
          "base_uri": "https://localhost:8080/",
          "height": 404
        }
      },
      "source": [
        "# PLOTTING LOSSES\n",
        "plot_loss(train_hist, val_hist)"
      ],
      "execution_count": 0,
      "outputs": [
        {
          "output_type": "display_data",
          "data": {
            "image/png": "[encoded data removed]",
            "text/plain": [
              "<Figure size 720x432 with 1 Axes>"
            ]
          },
          "metadata": {
            "tags": [],
            "needs_background": "light"
          }
        }
      ]
    },
    {
      "cell_type": "code",
      "metadata": {
        "id": "fORP6uCFDDOz",
        "colab_type": "code",
        "colab": {}
      },
      "source": [
        "# APPLYING TEST TIME TRANSFORMS\n",
        "test_tf = tta.Compose([tta.HorizontalFlip(), tta.Multiply(factors=[0.9, 1, 1.1])])\n",
        "tta_model = tta.ClassificationTTAWrapper(model, test_tf, merge_mode = 'mean')"
      ],
      "execution_count": 0,
      "outputs": []
    },
    {
      "cell_type": "code",
      "metadata": {
        "id": "dzpmKmozuqTE",
        "colab_type": "code",
        "outputId": "765f395a-a376-4286-f705-5c3f28fd490f",
        "colab": {
          "base_uri": "https://localhost:8080/",
          "height": 34
        }
      },
      "source": [
        "checkpoint = torch.load('model.pth')\n",
        "checkpoint['epoch']"
      ],
      "execution_count": 0,
      "outputs": [
        {
          "output_type": "execute_result",
          "data": {
            "text/plain": [
              "6"
            ]
          },
          "metadata": {
            "tags": []
          },
          "execution_count": 23
        }
      ]
    },
    {
      "cell_type": "code",
      "metadata": {
        "id": "EaItI3_ogxzB",
        "colab_type": "code",
        "colab": {}
      },
      "source": [
        "testdl = DataLoader(testset, batch_size=12, pin_memory=True, num_workers=4)"
      ],
      "execution_count": 0,
      "outputs": []
    },
    {
      "cell_type": "code",
      "metadata": {
        "id": "Yy4eH68D3sBq",
        "colab_type": "code",
        "outputId": "ea7bf8c4-c2b9-4f0b-da23-9b552ccbb73b",
        "colab": {
          "base_uri": "https://localhost:8080/",
          "height": 244,
          "referenced_widgets": [
            "14ea0bbb8421476f82db828c5a48c969",
            "3896a8efea3c462a9da1a120b317aa83",
            "c0c2f0d773c14e4f9d7972da0938e91a",
            "65c57b8e9bb5457e87782104565c8b41",
            "f8a3da21fb9d47ef92deb93db27a59fb",
            "5a214d0e0dc540cd8f6ff3f1acb99d75",
            "22c13b8d6d694a4cbee298def333052f",
            "de4a41019cc041eaaf112abdc56d3cab"
          ]
        }
      },
      "source": [
        "testcopy = test.copy()\n",
        "prediction = test_it(tta_model, testdl)\n",
        "prediction.head()"
      ],
      "execution_count": 0,
      "outputs": [
        {
          "output_type": "display_data",
          "data": {
            "application/vnd.jupyter.widget-view+json": {
              "model_id": "14ea0bbb8421476f82db828c5a48c969",
              "version_minor": 0,
              "version_major": 2
            },
            "text/plain": [
              "HBox(children=(FloatProgress(value=0.0, max=553.0), HTML(value='')))"
            ]
          },
          "metadata": {
            "tags": []
          }
        },
        {
          "output_type": "stream",
          "text": [
            "\n"
          ],
          "name": "stdout"
        },
        {
          "output_type": "execute_result",
          "data": {
            "text/html": [
              "<div>\n",
              "<style scoped>\n",
              "    .dataframe tbody tr th:only-of-type {\n",
              "        vertical-align: middle;\n",
              "    }\n",
              "\n",
              "    .dataframe tbody tr th {\n",
              "        vertical-align: top;\n",
              "    }\n",
              "\n",
              "    .dataframe thead th {\n",
              "        text-align: right;\n",
              "    }\n",
              "</style>\n",
              "<table border=\"1\" class=\"dataframe\">\n",
              "  <thead>\n",
              "    <tr style=\"text-align: right;\">\n",
              "      <th></th>\n",
              "      <th>ID</th>\n",
              "      <th>Class</th>\n",
              "    </tr>\n",
              "  </thead>\n",
              "  <tbody>\n",
              "    <tr>\n",
              "      <th>0</th>\n",
              "      <td>25321.jpg</td>\n",
              "      <td>0</td>\n",
              "    </tr>\n",
              "    <tr>\n",
              "      <th>1</th>\n",
              "      <td>989.jpg</td>\n",
              "      <td>2</td>\n",
              "    </tr>\n",
              "    <tr>\n",
              "      <th>2</th>\n",
              "      <td>19277.jpg</td>\n",
              "      <td>0</td>\n",
              "    </tr>\n",
              "    <tr>\n",
              "      <th>3</th>\n",
              "      <td>13093.jpg</td>\n",
              "      <td>0</td>\n",
              "    </tr>\n",
              "    <tr>\n",
              "      <th>4</th>\n",
              "      <td>5367.jpg</td>\n",
              "      <td>0</td>\n",
              "    </tr>\n",
              "  </tbody>\n",
              "</table>\n",
              "</div>"
            ],
            "text/plain": [
              "          ID  Class\n",
              "0  25321.jpg      0\n",
              "1    989.jpg      2\n",
              "2  19277.jpg      0\n",
              "3  13093.jpg      0\n",
              "4   5367.jpg      0"
            ]
          },
          "metadata": {
            "tags": []
          },
          "execution_count": 45
        }
      ]
    },
    {
      "cell_type": "code",
      "metadata": {
        "id": "MPBTK1QT3uYU",
        "colab_type": "code",
        "outputId": "5db5f881-4a51-481c-fdd7-b7ef9a01ab22",
        "colab": {
          "base_uri": "https://localhost:8080/",
          "height": 195
        }
      },
      "source": [
        "mapper = {'Class':{0:'MIDDLE', 1:'OLD', 2:'YOUNG'}}\n",
        "prediction.replace(mapper, inplace=True)\n",
        "new_col = ['Class', 'ID']\n",
        "prediction = prediction.reindex(columns=new_col)\n",
        "prediction.head()"
      ],
      "execution_count": 0,
      "outputs": [
        {
          "output_type": "execute_result",
          "data": {
            "text/html": [
              "<div>\n",
              "<style scoped>\n",
              "    .dataframe tbody tr th:only-of-type {\n",
              "        vertical-align: middle;\n",
              "    }\n",
              "\n",
              "    .dataframe tbody tr th {\n",
              "        vertical-align: top;\n",
              "    }\n",
              "\n",
              "    .dataframe thead th {\n",
              "        text-align: right;\n",
              "    }\n",
              "</style>\n",
              "<table border=\"1\" class=\"dataframe\">\n",
              "  <thead>\n",
              "    <tr style=\"text-align: right;\">\n",
              "      <th></th>\n",
              "      <th>Class</th>\n",
              "      <th>ID</th>\n",
              "    </tr>\n",
              "  </thead>\n",
              "  <tbody>\n",
              "    <tr>\n",
              "      <th>0</th>\n",
              "      <td>MIDDLE</td>\n",
              "      <td>25321.jpg</td>\n",
              "    </tr>\n",
              "    <tr>\n",
              "      <th>1</th>\n",
              "      <td>YOUNG</td>\n",
              "      <td>989.jpg</td>\n",
              "    </tr>\n",
              "    <tr>\n",
              "      <th>2</th>\n",
              "      <td>MIDDLE</td>\n",
              "      <td>19277.jpg</td>\n",
              "    </tr>\n",
              "    <tr>\n",
              "      <th>3</th>\n",
              "      <td>MIDDLE</td>\n",
              "      <td>13093.jpg</td>\n",
              "    </tr>\n",
              "    <tr>\n",
              "      <th>4</th>\n",
              "      <td>MIDDLE</td>\n",
              "      <td>5367.jpg</td>\n",
              "    </tr>\n",
              "  </tbody>\n",
              "</table>\n",
              "</div>"
            ],
            "text/plain": [
              "    Class         ID\n",
              "0  MIDDLE  25321.jpg\n",
              "1   YOUNG    989.jpg\n",
              "2  MIDDLE  19277.jpg\n",
              "3  MIDDLE  13093.jpg\n",
              "4  MIDDLE   5367.jpg"
            ]
          },
          "metadata": {
            "tags": []
          },
          "execution_count": 46
        }
      ]
    },
    {
      "cell_type": "code",
      "metadata": {
        "id": "_aUBaWH0CscT",
        "colab_type": "code",
        "colab": {}
      },
      "source": [
        "prediction.to_csv('ttasubmission.csv', index=False)"
      ],
      "execution_count": 0,
      "outputs": []
    },
    {
      "cell_type": "code",
      "metadata": {
        "id": "2bkCQ6piTCjL",
        "colab_type": "code",
        "colab": {}
      },
      "source": [
        "torch.cuda.empty_cache()"
      ],
      "execution_count": 0,
      "outputs": []
    }
  ]
}