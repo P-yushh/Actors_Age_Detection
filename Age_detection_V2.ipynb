{
  "nbformat": 4,
  "nbformat_minor": 0,
  "metadata": {
    "colab": {
      "name": "Untitled0 (6).ipynb",
      "provenance": [],
      "collapsed_sections": [],
      "include_colab_link": true
    },
    "kernelspec": {
      "name": "python3",
      "display_name": "Python 3"
    },
    "accelerator": "GPU"
  },
  "cells": [
    {
      "cell_type": "markdown",
      "metadata": {
        "id": "view-in-github",
        "colab_type": "text"
      },
      "source": [
        "<a href=\"https://colab.research.google.com/github/P-yushh/Competitions/blob/master/Age_detection_V2.ipynb\" target=\"_parent\"><img src=\"https://colab.research.google.com/assets/colab-badge.svg\" alt=\"Open In Colab\"/></a>"
      ]
    },
    {
      "cell_type": "code",
      "metadata": {
        "id": "OIU8Wpuo6RG4",
        "colab_type": "code",
        "colab": {}
      },
      "source": [
        "import os\n",
        "import time\n",
        "import re\n",
        "import warnings\n",
        "import copy\n",
        "import cv2\n",
        "import tqdm\n",
        "import numpy as np\n",
        "import pandas as pd\n",
        "import matplotlib.pyplot as plt\n",
        "import torch\n",
        "import torch.nn as nn\n",
        "import torch.optim as optim\n",
        "import torch.functional as F\n",
        "import torchvision\n",
        "import albumentations as A\n",
        "from albumentations.pytorch import ToTensor\n",
        "from sklearn.model_selection import train_test_split\n",
        "from sklearn.model_selection import StratifiedKFold\n",
        "from torch.autograd import Variable\n",
        "from torchvision import models, datasets\n",
        "from torch.utils.data import DataLoader, Dataset\n",
        "%matplotlib inline\n",
        "%reload_ext autoreload\n",
        "%autoreload 2\n",
        "warnings.filterwarnings('ignore')"
      ],
      "execution_count": 0,
      "outputs": []
    },
    {
      "cell_type": "code",
      "metadata": {
        "id": "CW_-LcjkGIP5",
        "colab_type": "code",
        "outputId": "56deeaa3-0352-44ff-80a7-3449e917c5aa",
        "colab": {
          "base_uri": "https://localhost:8080/",
          "height": 322
        }
      },
      "source": [
        "!pip install timm\n",
        "!pip install pytorch_ranger\n",
        "!pip install ttach"
      ],
      "execution_count": 0,
      "outputs": [
        {
          "output_type": "stream",
          "text": [
            "Collecting timm\n",
            "\u001b[?25l  Downloading https://files.pythonhosted.org/packages/44/c7/b1ce15cfca60d10d069dafbc2138761940f73b691496fd998a680f04dad1/timm-0.1.26-py3-none-any.whl (179kB)\n",
            "\r\u001b[K     |█▉                              | 10kB 17.1MB/s eta 0:00:01\r\u001b[K     |███▋                            | 20kB 4.5MB/s eta 0:00:01\r\u001b[K     |█████▌                          | 30kB 5.7MB/s eta 0:00:01\r\u001b[K     |███████▎                        | 40kB 5.6MB/s eta 0:00:01\r\u001b[K     |█████████▏                      | 51kB 5.0MB/s eta 0:00:01\r\u001b[K     |███████████                     | 61kB 5.5MB/s eta 0:00:01\r\u001b[K     |████████████▉                   | 71kB 5.9MB/s eta 0:00:01\r\u001b[K     |██████████████▋                 | 81kB 6.4MB/s eta 0:00:01\r\u001b[K     |████████████████▌               | 92kB 6.2MB/s eta 0:00:01\r\u001b[K     |██████████████████▎             | 102kB 6.4MB/s eta 0:00:01\r\u001b[K     |████████████████████            | 112kB 6.4MB/s eta 0:00:01\r\u001b[K     |██████████████████████          | 122kB 6.4MB/s eta 0:00:01\r\u001b[K     |███████████████████████▊        | 133kB 6.4MB/s eta 0:00:01\r\u001b[K     |█████████████████████████▋      | 143kB 6.4MB/s eta 0:00:01\r\u001b[K     |███████████████████████████▍    | 153kB 6.4MB/s eta 0:00:01\r\u001b[K     |█████████████████████████████▎  | 163kB 6.4MB/s eta 0:00:01\r\u001b[K     |███████████████████████████████ | 174kB 6.4MB/s eta 0:00:01\r\u001b[K     |████████████████████████████████| 184kB 6.4MB/s \n",
            "\u001b[?25hRequirement already satisfied: torch>=1.0 in /usr/local/lib/python3.6/dist-packages (from timm) (1.5.0+cu101)\n",
            "Requirement already satisfied: torchvision in /usr/local/lib/python3.6/dist-packages (from timm) (0.6.0+cu101)\n",
            "Requirement already satisfied: future in /usr/local/lib/python3.6/dist-packages (from torch>=1.0->timm) (0.16.0)\n",
            "Requirement already satisfied: numpy in /usr/local/lib/python3.6/dist-packages (from torch>=1.0->timm) (1.18.4)\n",
            "Requirement already satisfied: pillow>=4.1.1 in /usr/local/lib/python3.6/dist-packages (from torchvision->timm) (7.0.0)\n",
            "Installing collected packages: timm\n",
            "Successfully installed timm-0.1.26\n",
            "Collecting pytorch_ranger\n",
            "  Downloading https://files.pythonhosted.org/packages/0d/70/12256257d861bbc3e176130d25be1de085ce7a9e60594064888a950f2154/pytorch_ranger-0.1.1-py3-none-any.whl\n",
            "Requirement already satisfied: torch in /usr/local/lib/python3.6/dist-packages (from pytorch_ranger) (1.5.0+cu101)\n",
            "Requirement already satisfied: future in /usr/local/lib/python3.6/dist-packages (from torch->pytorch_ranger) (0.16.0)\n",
            "Requirement already satisfied: numpy in /usr/local/lib/python3.6/dist-packages (from torch->pytorch_ranger) (1.18.4)\n",
            "Installing collected packages: pytorch-ranger\n",
            "Successfully installed pytorch-ranger-0.1.1\n"
          ],
          "name": "stdout"
        }
      ]
    },
    {
      "cell_type": "code",
      "metadata": {
        "id": "G0fbxicvGKDl",
        "colab_type": "code",
        "colab": {}
      },
      "source": [
        "import timm\n",
        "from pytorch_ranger import Ranger\n",
        "import ttach as tta"
      ],
      "execution_count": 0,
      "outputs": []
    },
    {
      "cell_type": "code",
      "metadata": {
        "id": "rEGyM5iodB3M",
        "colab_type": "code",
        "colab": {}
      },
      "source": [
        "def seed_everything(seed):\n",
        "  np.random.seed(seed)\n",
        "  os.environ['PYTHONHASHSEED'] = str(seed)\n",
        "  torch.manual_seed(seed)\n",
        "  if torch.cuda.is_available():\n",
        "    torch.backends.cudnn.deterministic = True\n",
        "    torch.cuda.manual_seed(seed)\n",
        "\n",
        "seed_everything(0)"
      ],
      "execution_count": 0,
      "outputs": []
    },
    {
      "cell_type": "code",
      "metadata": {
        "id": "nvrKEwcid9Zo",
        "colab_type": "code",
        "outputId": "ebaebb23-07a7-49dd-a782-71e1d92e0546",
        "colab": {
          "base_uri": "https://localhost:8080/",
          "height": 34
        }
      },
      "source": [
        "device = torch.device('cuda' if torch.cuda.is_available else 'cpu')\n",
        "device"
      ],
      "execution_count": 0,
      "outputs": [
        {
          "output_type": "execute_result",
          "data": {
            "text/plain": [
              "device(type='cuda')"
            ]
          },
          "metadata": {
            "tags": []
          },
          "execution_count": 5
        }
      ]
    },
    {
      "cell_type": "code",
      "metadata": {
        "id": "0vNOWpOAsnWL",
        "colab_type": "code",
        "colab": {}
      },
      "source": [
        "# DOWNLOAD DATASETS\n",
        "!wget -q https://datahack-prod.s3.amazonaws.com/train_zip/train_DETg9GD.zip\n",
        "!wget -q https://datahack-prod.s3.amazonaws.com/test_zip/test_Bh8pGW3.zip\n",
        "!wget -q https://datahack-prod.s3.amazonaws.com/sample_submission/sample_submission_sDO3m7O.csv\n",
        "\n",
        "!unzip -q train_DETg9GD.zip\n",
        "!unzip -q test_Bh8pGW3.zip \n",
        "\n",
        "!rm test_Bh8pGW3.zip\n",
        "!rm train_DETg9GD.zip"
      ],
      "execution_count": 0,
      "outputs": []
    },
    {
      "cell_type": "code",
      "metadata": {
        "id": "-iyvOAqttj1F",
        "colab_type": "code",
        "outputId": "85ef599d-1d3e-4e6b-85b2-0a94daee06c9",
        "colab": {
          "base_uri": "https://localhost:8080/",
          "height": 195
        }
      },
      "source": [
        "# LOADING DATASET\n",
        "traincsv = pd.read_csv('train.csv')\n",
        "test = pd.read_csv('test.csv')\n",
        "sample = pd.read_csv('sample_submission_sDO3m7O.csv')\n",
        "col_class = sample['Class']\n",
        "col_class = pd.DataFrame(col_class, columns=['Class'])\n",
        "test = pd.concat([test, col_class], axis=1)\n",
        "traincsv.head()"
      ],
      "execution_count": 0,
      "outputs": [
        {
          "output_type": "execute_result",
          "data": {
            "text/html": [
              "<div>\n",
              "<style scoped>\n",
              "    .dataframe tbody tr th:only-of-type {\n",
              "        vertical-align: middle;\n",
              "    }\n",
              "\n",
              "    .dataframe tbody tr th {\n",
              "        vertical-align: top;\n",
              "    }\n",
              "\n",
              "    .dataframe thead th {\n",
              "        text-align: right;\n",
              "    }\n",
              "</style>\n",
              "<table border=\"1\" class=\"dataframe\">\n",
              "  <thead>\n",
              "    <tr style=\"text-align: right;\">\n",
              "      <th></th>\n",
              "      <th>ID</th>\n",
              "      <th>Class</th>\n",
              "    </tr>\n",
              "  </thead>\n",
              "  <tbody>\n",
              "    <tr>\n",
              "      <th>0</th>\n",
              "      <td>377.jpg</td>\n",
              "      <td>MIDDLE</td>\n",
              "    </tr>\n",
              "    <tr>\n",
              "      <th>1</th>\n",
              "      <td>17814.jpg</td>\n",
              "      <td>YOUNG</td>\n",
              "    </tr>\n",
              "    <tr>\n",
              "      <th>2</th>\n",
              "      <td>21283.jpg</td>\n",
              "      <td>MIDDLE</td>\n",
              "    </tr>\n",
              "    <tr>\n",
              "      <th>3</th>\n",
              "      <td>16496.jpg</td>\n",
              "      <td>YOUNG</td>\n",
              "    </tr>\n",
              "    <tr>\n",
              "      <th>4</th>\n",
              "      <td>4487.jpg</td>\n",
              "      <td>MIDDLE</td>\n",
              "    </tr>\n",
              "  </tbody>\n",
              "</table>\n",
              "</div>"
            ],
            "text/plain": [
              "          ID   Class\n",
              "0    377.jpg  MIDDLE\n",
              "1  17814.jpg   YOUNG\n",
              "2  21283.jpg  MIDDLE\n",
              "3  16496.jpg   YOUNG\n",
              "4   4487.jpg  MIDDLE"
            ]
          },
          "metadata": {
            "tags": []
          },
          "execution_count": 7
        }
      ]
    },
    {
      "cell_type": "code",
      "metadata": {
        "id": "WAv5FNocb1Qf",
        "colab_type": "code",
        "outputId": "1a376f46-00de-46b4-ef34-717388d4a232",
        "colab": {
          "base_uri": "https://localhost:8080/",
          "height": 50
        }
      },
      "source": [
        "classes = np.unique(traincsv['Class'])\n",
        "num_classes = len(classes)\n",
        "print(classes)\n",
        "print(num_classes)"
      ],
      "execution_count": 0,
      "outputs": [
        {
          "output_type": "stream",
          "text": [
            "['MIDDLE' 'OLD' 'YOUNG']\n",
            "3\n"
          ],
          "name": "stdout"
        }
      ]
    },
    {
      "cell_type": "code",
      "metadata": {
        "id": "e6HSfeCxjetJ",
        "colab_type": "code",
        "colab": {}
      },
      "source": [
        "def showimg(img, unnormalize=True):\n",
        "  if unnormalize:\n",
        "    img = img * 0.5 + 0.5\n",
        "  npimg = img.numpy()\n",
        "  plt.imshow(np.transpose(npimg, (1,2,0)))\n",
        "\n",
        "def plot_loss(train, val):\n",
        "  x = np.arange(1, len(train)+1)\n",
        "  plt.figure(figsize=(10,6))\n",
        "  plt.plot(x, train, label='Training Loss')\n",
        "  plt.plot(x, val, label='Validation Loss')\n",
        "  plt.xlabel('Epoch')\n",
        "  plt.ylabel('Loss')\n",
        "  plt.title('Training and Validation Losses!')\n",
        "  plt.legend(loc='upper right')\n",
        "  plt.show()"
      ],
      "execution_count": 0,
      "outputs": []
    },
    {
      "cell_type": "code",
      "metadata": {
        "id": "yS5fJhE1rMmN",
        "colab_type": "code",
        "colab": {}
      },
      "source": [
        "# MAKING DATALOADER\n",
        "class load_data(Dataset):\n",
        "  def __init__(self, df, root, phase):\n",
        "    self.df = df\n",
        "    self.dir = root\n",
        "    if phase == 'train':\n",
        "      self.transforms = A.Compose([A.Resize(320,320), A.RandomCrop(300,300), A.HorizontalFlip(),\n",
        "                                   A.RGBShift(), A.Rotate(30), A.GaussNoise(), A.Cutout(), A.RandomBrightnessContrast(),\n",
        "                        A.Normalize([0.485, 0.456, 0.406], [0.229, 0.224, 0.225]), ToTensor()])\n",
        "    else:\n",
        "      self.transforms = A.Compose([A.Resize(320,320), A.RandomCrop(300,300), A.Normalize([0.485, 0.456, 0.406], [0.229, 0.224, 0.225]), ToTensor()])\n",
        "\n",
        "  def __len__(self):\n",
        "    return len(self.df)\n",
        "\n",
        "  def __getitem__(self, idx):\n",
        "    img_id = self.df['ID'].iloc[idx]\n",
        "    img_path = os.path.join(self.dir, str(img_id))\n",
        "    labels = self.df.iloc[idx, 1:].to_numpy()\n",
        "    labels = np.argmax(labels)\n",
        "    img = plt.imread(img_path)\n",
        "    img = self.transforms(image=np.array(img))['image']\n",
        "    return img, labels"
      ],
      "execution_count": 0,
      "outputs": []
    },
    {
      "cell_type": "code",
      "metadata": {
        "id": "EaW_uw0xbTDN",
        "colab_type": "code",
        "colab": {}
      },
      "source": [
        "def cvrt_to_dumm(data):\n",
        "  data = pd.get_dummies(data, columns=['Class'], prefix='Class')\n",
        "  return data"
      ],
      "execution_count": 0,
      "outputs": []
    },
    {
      "cell_type": "code",
      "metadata": {
        "id": "UIp8hcQW53DW",
        "colab_type": "code",
        "outputId": "b1f62091-62b2-4440-90c1-d9e19493c2be",
        "colab": {
          "base_uri": "https://localhost:8080/",
          "height": 195
        }
      },
      "source": [
        "# SPLITTING DATASET INTO TRAINING AND VALIDATION SET\n",
        "sfk = StratifiedKFold(n_splits=7)\n",
        "for trn_idx, val_idx in sfk.split(traincsv['Class'], traincsv['Class']):\n",
        "    train = pd.DataFrame(traincsv.loc[trn_idx].values)\n",
        "    val = pd.DataFrame(traincsv.loc[val_idx].values)\n",
        "val.rename(columns={0:'ID',1:'Class'}, inplace=True)\n",
        "train.rename(columns={0:'ID',1:'Class'}, inplace=True)\n",
        "train = cvrt_to_dumm(train)\n",
        "val = cvrt_to_dumm(val)\n",
        "train.head()"
      ],
      "execution_count": 0,
      "outputs": [
        {
          "output_type": "execute_result",
          "data": {
            "text/html": [
              "<div>\n",
              "<style scoped>\n",
              "    .dataframe tbody tr th:only-of-type {\n",
              "        vertical-align: middle;\n",
              "    }\n",
              "\n",
              "    .dataframe tbody tr th {\n",
              "        vertical-align: top;\n",
              "    }\n",
              "\n",
              "    .dataframe thead th {\n",
              "        text-align: right;\n",
              "    }\n",
              "</style>\n",
              "<table border=\"1\" class=\"dataframe\">\n",
              "  <thead>\n",
              "    <tr style=\"text-align: right;\">\n",
              "      <th></th>\n",
              "      <th>ID</th>\n",
              "      <th>Class_MIDDLE</th>\n",
              "      <th>Class_OLD</th>\n",
              "      <th>Class_YOUNG</th>\n",
              "    </tr>\n",
              "  </thead>\n",
              "  <tbody>\n",
              "    <tr>\n",
              "      <th>0</th>\n",
              "      <td>377.jpg</td>\n",
              "      <td>1</td>\n",
              "      <td>0</td>\n",
              "      <td>0</td>\n",
              "    </tr>\n",
              "    <tr>\n",
              "      <th>1</th>\n",
              "      <td>17814.jpg</td>\n",
              "      <td>0</td>\n",
              "      <td>0</td>\n",
              "      <td>1</td>\n",
              "    </tr>\n",
              "    <tr>\n",
              "      <th>2</th>\n",
              "      <td>21283.jpg</td>\n",
              "      <td>1</td>\n",
              "      <td>0</td>\n",
              "      <td>0</td>\n",
              "    </tr>\n",
              "    <tr>\n",
              "      <th>3</th>\n",
              "      <td>16496.jpg</td>\n",
              "      <td>0</td>\n",
              "      <td>0</td>\n",
              "      <td>1</td>\n",
              "    </tr>\n",
              "    <tr>\n",
              "      <th>4</th>\n",
              "      <td>4487.jpg</td>\n",
              "      <td>1</td>\n",
              "      <td>0</td>\n",
              "      <td>0</td>\n",
              "    </tr>\n",
              "  </tbody>\n",
              "</table>\n",
              "</div>"
            ],
            "text/plain": [
              "          ID  Class_MIDDLE  Class_OLD  Class_YOUNG\n",
              "0    377.jpg             1          0            0\n",
              "1  17814.jpg             0          0            1\n",
              "2  21283.jpg             1          0            0\n",
              "3  16496.jpg             0          0            1\n",
              "4   4487.jpg             1          0            0"
            ]
          },
          "metadata": {
            "tags": []
          },
          "execution_count": 12
        }
      ]
    },
    {
      "cell_type": "code",
      "metadata": {
        "id": "zqerqmEtd6tA",
        "colab_type": "code",
        "colab": {}
      },
      "source": [
        "batch_size = 32"
      ],
      "execution_count": 0,
      "outputs": []
    },
    {
      "cell_type": "code",
      "metadata": {
        "id": "Iq5q3YEaTj80",
        "colab_type": "code",
        "colab": {}
      },
      "source": [
        "#DEFINING DATALOADER\n",
        "trainset = load_data(train, 'Train', 'train')\n",
        "valset = load_data(val, 'Train', 'eval')\n",
        "testset = load_data(test, 'Test', 'eval')\n",
        "tdl = DataLoader(trainset, batch_size=batch_size, shuffle=True, pin_memory=True, num_workers=4)\n",
        "vdl = DataLoader(valset, batch_size=batch_size, shuffle=False, pin_memory=True, num_workers=4)\n",
        "testdl = DataLoader(testset, batch_size=batch_size, shuffle=False, pin_memory=True, num_workers=4)"
      ],
      "execution_count": 0,
      "outputs": []
    },
    {
      "cell_type": "code",
      "metadata": {
        "id": "nzmtnf2jlTGE",
        "colab_type": "code",
        "outputId": "2146d012-f381-4736-bfdf-5b1912f08c73",
        "colab": {
          "base_uri": "https://localhost:8080/",
          "height": 170
        }
      },
      "source": [
        "# SHOWING IMAGES (ONLY 4 FOR BREVITY)\n",
        "images, label = next(iter(tdl))\n",
        "showimg(torchvision.utils.make_grid(images))\n",
        "print(' '.join('{:>10}'.format(classes[label[j]]) for j in range(batch_size)))"
      ],
      "execution_count": 0,
      "outputs": [
        {
          "output_type": "stream",
          "text": [
            "Clipping input data to the valid range for imshow with RGB data ([0..1] for floats or [0..255] for integers).\n"
          ],
          "name": "stderr"
        },
        {
          "output_type": "stream",
          "text": [
            "    MIDDLE     MIDDLE     MIDDLE     MIDDLE\n"
          ],
          "name": "stdout"
        },
        {
          "output_type": "display_data",
          "data": {
            "image/png": "[encoded data removed]",
            "text/plain": [
              "<Figure size 432x288 with 1 Axes>"
            ]
          },
          "metadata": {
            "tags": [],
            "needs_background": "light"
          }
        }
      ]
    },
    {
      "cell_type": "code",
      "metadata": {
        "id": "cpEDKzkFpUBv",
        "colab_type": "code",
        "colab": {}
      },
      "source": [
        "#DEFINING TRAINER\n",
        "def train_it(model, dataloader, criterion, optimizer, scheduler, epochs, verbose=False, print_every=25, load_model=False):\n",
        "  since = time.time()\n",
        "  train_history = []\n",
        "  val_history = []\n",
        "  best_loss = np.inf\n",
        "\n",
        "  if load_model:\n",
        "    checkpoint = torch.load('model.pth')\n",
        "    model.load_state_dict(checkpoint['state'])\n",
        "    optimizer.load_state_dict(checkpoint['optimizer'])\n",
        "    scheduler.load_state_dict(checkpoint['scheduler'])\n",
        "    epoch = checkpoint['epoch']\n",
        "    best_loss = checkpoint['best_loss']\n",
        "\n",
        "  best_model = model.state_dict()\n",
        "  train_ldr = dataloader['train']\n",
        "  val_ldr = dataloader['val']\n",
        "\n",
        "  model.train()\n",
        "  for epoch in range(1, epochs+1):\n",
        "    print('Epoch: {} of {}'.format(epoch, epochs))\n",
        "    start = time.time()\n",
        "    total_train_loss = 0.0\n",
        "    running_acc = 0.0\n",
        "    for i, (img, labels) in enumerate(dataloader['train']):\n",
        "      img, labels = img.to(device), labels.to(device)\n",
        "      optimizer.zero_grad()\n",
        "\n",
        "      score = model(img)\n",
        "      loss = criterion(score, labels)\n",
        "      loss.backward()\n",
        "      optimizer.step()\n",
        "      _, pred = torch.max(score, dim=1)\n",
        "      running_acc += torch.sum(pred==labels.data)\n",
        "      \n",
        "      total_train_loss += loss.item()*img.size(0)\n",
        "\n",
        "      if (i) % (print_every) == 0 and verbose:    \n",
        "                print(\"Completed {:d}% of 100%\".format(int(100 * (i) / len(dataloader['train']))))\n",
        "\n",
        "    epoch_train_acc = running_acc.double() / len(dataloader['train'].dataset)\n",
        "    timer = time.time() - start\n",
        "    print('Train Loss: {:.4f} \\t Train accuracy: {:.4f} \\t took {}m {}s'.format(total_train_loss / len(dataloader['train'].dataset),\n",
        "                                                             epoch_train_acc.item(), timer//60, timer%60))\n",
        "    train_history.append(total_train_loss / len(dataloader['train'].dataset))\n",
        "\n",
        "    # EVALUATING NOW...\n",
        "\n",
        "    model.eval()\n",
        "    total_val_loss = 0.0\n",
        "    running_val_acc = 0.0\n",
        "    with torch.no_grad():\n",
        "      for (img, labels) in dataloader['val']:\n",
        "        img, labels = img.to(device), labels.to(device)\n",
        "        val_score = model(img)\n",
        "        val_loss = criterion(val_score, labels)\n",
        "        total_val_loss += val_loss.item() * img.size(0)\n",
        "        _, vpred = torch.max(val_score, dim=1)\n",
        "        running_val_acc += torch.sum(vpred==labels.data)\n",
        "      \n",
        "    epoch_val_loss = total_val_loss / len(dataloader['val'].dataset)\n",
        "    val_history.append(epoch_val_loss)\n",
        "    val_acc = running_val_acc / len(dataloader['val'].dataset)\n",
        "    state = {'epoch':epoch, 'best_loss':best_loss,\n",
        "             'state':model.state_dict(), 'optimizer':optimizer.state_dict(),\n",
        "             'scheduler':scheduler.state_dict()}\n",
        "    \n",
        "    if scheduler:\n",
        "      scheduler.step(epoch_val_loss)\n",
        "    if epoch_val_loss < best_loss:\n",
        "      state['best_loss'] = best_loss = epoch_val_loss\n",
        "      torch.save(state, 'model.pth')\n",
        "      best_model = model.state_dict()\n",
        "    \n",
        "    print(\"Validation loss = {:.4f} \\t Validation accuracy = {}\".format(epoch_val_loss, val_acc))\n",
        "    print('```````````````````````````````````````````````````````````')\n",
        "\n",
        "  timer = time.time() - since\n",
        "  print(\"Training Finished, took {}m {}s\".format(timer//60, timer%60))\n",
        "\n",
        "  return best_model, train_history, val_history"
      ],
      "execution_count": 0,
      "outputs": []
    },
    {
      "cell_type": "code",
      "metadata": {
        "id": "dFbG4Gaao7pk",
        "colab_type": "code",
        "colab": {}
      },
      "source": [
        "def test_it(model, testldr, verbose=False):\n",
        "  model.eval()\n",
        "  final_pred = []\n",
        "  with torch.no_grad():\n",
        "    for (img, label) in testldr:\n",
        "      img, label = img.to(device), label.to(device)\n",
        "      output = model(img)\n",
        "      _, pred = torch.max(output, dim=1)\n",
        "      final_pred.append(pred.cpu().numpy().data)\n",
        "    if verbose:\n",
        "      print('Done evaluating, finishing up...')\n",
        "    final_pred = np.concatenate(final_pred)\n",
        "    testcopy['Class'] = final_pred\n",
        "  return testcopy"
      ],
      "execution_count": 0,
      "outputs": []
    },
    {
      "cell_type": "code",
      "metadata": {
        "id": "HI3m7nbJl5WS",
        "colab_type": "code",
        "outputId": "468599df-cd26-4bb8-c280-12be45a9254a",
        "colab": {
          "base_uri": "https://localhost:8080/",
          "height": 54
        }
      },
      "source": [
        "# DEFINING MODEL\n",
        "model = timm.create_model('efficientnet_b3', pretrained=True, num_classes=3, drop_rate=0.2)\n",
        "#for param in model.parameters():\n",
        "#  param.requires_grad = True\n",
        "#model_classes = model.fc.in_features"
      ],
      "execution_count": 0,
      "outputs": [
        {
          "output_type": "stream",
          "text": [
            "Downloading: \"https://github.com/rwightman/pytorch-image-models/releases/download/v0.1-weights/efficientnet_b3_ra-a5e2fbc7.pth\" to /root/.cache/torch/checkpoints/efficientnet_b3_ra-a5e2fbc7.pth\n"
          ],
          "name": "stderr"
        }
      ]
    },
    {
      "cell_type": "code",
      "metadata": {
        "id": "tiL5ClqO79ZS",
        "colab_type": "code",
        "colab": {}
      },
      "source": [
        "model"
      ],
      "execution_count": 0,
      "outputs": []
    },
    {
      "cell_type": "code",
      "metadata": {
        "id": "xfVrfygb7_wK",
        "colab_type": "code",
        "outputId": "746ed7fb-b868-42ef-ced9-6f24b7d8daae",
        "colab": {
          "base_uri": "https://localhost:8080/",
          "height": 34
        }
      },
      "source": [
        "model_classes = model.classifier.in_features"
      ],
      "execution_count": 0,
      "outputs": [
        {
          "output_type": "stream",
          "text": [
            "1536\n"
          ],
          "name": "stdout"
        }
      ]
    },
    {
      "cell_type": "code",
      "metadata": {
        "id": "HDaNwe45msN3",
        "colab_type": "code",
        "colab": {}
      },
      "source": [
        "model.classifier = nn.Sequential(nn.Linear(model_classes, num_classes*2), nn.Dropout(0.2), nn.ReLU(), nn.Linear(num_classes*2, num_classes))\n",
        "model = model.to(device)\n",
        "#optimizer = optim.Adam(model.fc.parameters(), lr=2e-4, betas=(0.9, 0.999),weight_decay=0.001)\n",
        "optimizer = Ranger(model.parameters(), lr=2e-4, weight_decay=0.001)\n",
        "criterion = nn.CrossEntropyLoss()\n",
        "scheduler = optim.lr_scheduler.ReduceLROnPlateau(optimizer, factor=0.5, mode='min', threshold=0.01, patience=3, verbose=True)\n",
        "dataldr = {'train': tdl, 'val':vdl}"
      ],
      "execution_count": 0,
      "outputs": []
    },
    {
      "cell_type": "code",
      "metadata": {
        "id": "pICLcJEXkyXx",
        "colab_type": "code",
        "outputId": "0045ded3-3c79-45ee-d7d2-bc3d1d16b243",
        "colab": {
          "base_uri": "https://localhost:8080/",
          "height": 1000
        }
      },
      "source": [
        "best_model, train_hist, val_hist = train_it(model,  dataldr, criterion, optimizer, scheduler, 10, print_every=40, verbose=True, load_model=False)"
      ],
      "execution_count": 0,
      "outputs": [
        {
          "output_type": "stream",
          "text": [
            "Epoch: 1 of 10\n",
            "Completed 0% of 100%\n",
            "Completed 7% of 100%\n",
            "Completed 14% of 100%\n",
            "Completed 22% of 100%\n",
            "Completed 29% of 100%\n",
            "Completed 37% of 100%\n",
            "Completed 44% of 100%\n",
            "Completed 52% of 100%\n",
            "Completed 59% of 100%\n",
            "Completed 67% of 100%\n",
            "Completed 74% of 100%\n",
            "Completed 82% of 100%\n",
            "Completed 89% of 100%\n",
            "Completed 97% of 100%\n",
            "Train Loss: 0.6355 \t Train accuracy: 0.7777 \t took 4.0m 49.06198024749756s\n",
            "Validation loss = 0.3672 \t Validation accuracy = 0.8705592751502991\n",
            "```````````````````````````````````````````````````````````\n",
            "Epoch: 2 of 10\n",
            "Completed 0% of 100%\n",
            "Completed 7% of 100%\n",
            "Completed 14% of 100%\n",
            "Completed 22% of 100%\n",
            "Completed 29% of 100%\n",
            "Completed 37% of 100%\n",
            "Completed 44% of 100%\n",
            "Completed 52% of 100%\n",
            "Completed 59% of 100%\n",
            "Completed 67% of 100%\n",
            "Completed 74% of 100%\n",
            "Completed 82% of 100%\n",
            "Completed 89% of 100%\n",
            "Completed 97% of 100%\n",
            "Train Loss: 0.1585 \t Train accuracy: 0.9419 \t took 4.0m 43.14780807495117s\n",
            "Validation loss = 0.3592 \t Validation accuracy = 0.8916637301445007\n",
            "```````````````````````````````````````````````````````````\n",
            "Epoch: 3 of 10\n",
            "Completed 0% of 100%\n",
            "Completed 7% of 100%\n",
            "Completed 14% of 100%\n",
            "Completed 22% of 100%\n",
            "Completed 29% of 100%\n",
            "Completed 37% of 100%\n",
            "Completed 44% of 100%\n",
            "Completed 52% of 100%\n",
            "Completed 59% of 100%\n",
            "Completed 67% of 100%\n",
            "Completed 74% of 100%\n",
            "Completed 82% of 100%\n",
            "Completed 89% of 100%\n",
            "Completed 97% of 100%\n",
            "Train Loss: 0.0908 \t Train accuracy: 0.9661 \t took 4.0m 43.963369846343994s\n",
            "Validation loss = 0.3292 \t Validation accuracy = 0.8948293924331665\n",
            "```````````````````````````````````````````````````````````\n",
            "Epoch: 4 of 10\n",
            "Completed 0% of 100%\n",
            "Completed 7% of 100%\n",
            "Completed 14% of 100%\n",
            "Completed 22% of 100%\n",
            "Completed 29% of 100%\n",
            "Completed 37% of 100%\n",
            "Completed 44% of 100%\n",
            "Completed 52% of 100%\n",
            "Completed 59% of 100%\n",
            "Completed 67% of 100%\n",
            "Completed 74% of 100%\n",
            "Completed 82% of 100%\n",
            "Completed 89% of 100%\n",
            "Completed 97% of 100%\n",
            "Train Loss: 0.0698 \t Train accuracy: 0.9756 \t took 4.0m 43.80915451049805s\n",
            "Validation loss = 0.3778 \t Validation accuracy = 0.8941259384155273\n",
            "```````````````````````````````````````````````````````````\n",
            "Epoch: 5 of 10\n",
            "Completed 0% of 100%\n",
            "Completed 7% of 100%\n",
            "Completed 14% of 100%\n",
            "Completed 22% of 100%\n",
            "Completed 29% of 100%\n",
            "Completed 37% of 100%\n",
            "Completed 44% of 100%\n",
            "Completed 52% of 100%\n",
            "Completed 59% of 100%\n",
            "Completed 67% of 100%\n",
            "Completed 74% of 100%\n",
            "Completed 82% of 100%\n",
            "Completed 89% of 100%\n",
            "Completed 97% of 100%\n",
            "Train Loss: 0.0715 \t Train accuracy: 0.9725 \t took 4.0m 44.77521729469299s\n",
            "Validation loss = 0.3513 \t Validation accuracy = 0.896588146686554\n",
            "```````````````````````````````````````````````````````````\n",
            "Epoch: 6 of 10\n",
            "Completed 0% of 100%\n",
            "Completed 7% of 100%\n",
            "Completed 14% of 100%\n",
            "Completed 22% of 100%\n",
            "Completed 29% of 100%\n",
            "Completed 37% of 100%\n",
            "Completed 44% of 100%\n",
            "Completed 52% of 100%\n",
            "Completed 59% of 100%\n",
            "Completed 67% of 100%\n",
            "Completed 74% of 100%\n",
            "Completed 82% of 100%\n",
            "Completed 89% of 100%\n",
            "Completed 97% of 100%\n",
            "Train Loss: 0.0574 \t Train accuracy: 0.9802 \t took 4.0m 44.81214189529419s\n",
            "Validation loss = 0.4073 \t Validation accuracy = 0.8870911002159119\n",
            "```````````````````````````````````````````````````````````\n",
            "Epoch: 7 of 10\n",
            "Completed 0% of 100%\n",
            "Completed 7% of 100%\n",
            "Completed 14% of 100%\n",
            "Completed 22% of 100%\n",
            "Completed 29% of 100%\n",
            "Completed 37% of 100%\n",
            "Completed 44% of 100%\n",
            "Completed 52% of 100%\n",
            "Completed 59% of 100%\n",
            "Completed 67% of 100%\n",
            "Completed 74% of 100%\n",
            "Completed 82% of 100%\n",
            "Completed 89% of 100%\n",
            "Completed 97% of 100%\n",
            "Train Loss: 0.0563 \t Train accuracy: 0.9802 \t took 4.0m 45.030778646469116s\n",
            "Epoch     7: reducing learning rate of group 0 to 1.0000e-04.\n",
            "Validation loss = 0.3660 \t Validation accuracy = 0.8951811790466309\n",
            "```````````````````````````````````````````````````````````\n",
            "Epoch: 8 of 10\n",
            "Completed 0% of 100%\n",
            "Completed 7% of 100%\n",
            "Completed 14% of 100%\n",
            "Completed 22% of 100%\n",
            "Completed 29% of 100%\n",
            "Completed 37% of 100%\n",
            "Completed 44% of 100%\n",
            "Completed 52% of 100%\n",
            "Completed 59% of 100%\n",
            "Completed 67% of 100%\n",
            "Completed 74% of 100%\n",
            "Completed 82% of 100%\n",
            "Completed 89% of 100%\n",
            "Completed 97% of 100%\n",
            "Train Loss: 0.0274 \t Train accuracy: 0.9906 \t took 4.0m 44.87196397781372s\n",
            "Validation loss = 0.4147 \t Validation accuracy = 0.9053816795349121\n",
            "```````````````````````````````````````````````````````````\n",
            "Epoch: 9 of 10\n",
            "Completed 0% of 100%\n",
            "Completed 7% of 100%\n",
            "Completed 14% of 100%\n",
            "Completed 22% of 100%\n",
            "Completed 29% of 100%\n",
            "Completed 37% of 100%\n",
            "Completed 44% of 100%\n",
            "Completed 52% of 100%\n",
            "Completed 59% of 100%\n",
            "Completed 67% of 100%\n",
            "Completed 74% of 100%\n",
            "Completed 82% of 100%\n",
            "Completed 89% of 100%\n",
            "Completed 97% of 100%\n",
            "Train Loss: 0.0200 \t Train accuracy: 0.9928 \t took 4.0m 44.174808979034424s\n",
            "Validation loss = 0.3971 \t Validation accuracy = 0.907843828201294\n",
            "```````````````````````````````````````````````````````````\n",
            "Epoch: 10 of 10\n",
            "Completed 0% of 100%\n",
            "Completed 7% of 100%\n",
            "Completed 14% of 100%\n",
            "Completed 22% of 100%\n",
            "Completed 29% of 100%\n",
            "Completed 37% of 100%\n",
            "Completed 44% of 100%\n",
            "Completed 52% of 100%\n",
            "Completed 59% of 100%\n",
            "Completed 67% of 100%\n",
            "Completed 74% of 100%\n",
            "Completed 82% of 100%\n",
            "Completed 89% of 100%\n",
            "Completed 97% of 100%\n",
            "Train Loss: 0.0208 \t Train accuracy: 0.9927 \t took 4.0m 44.08646368980408s\n",
            "Validation loss = 0.4314 \t Validation accuracy = 0.9120647311210632\n",
            "```````````````````````````````````````````````````````````\n",
            "Training Finished, took 49.0m 42.60274529457092s\n"
          ],
          "name": "stdout"
        }
      ]
    },
    {
      "cell_type": "code",
      "metadata": {
        "id": "sTai1aB7kdTn",
        "colab_type": "code",
        "outputId": "3a4f4c01-0ce7-475c-8153-4dbb9953b369",
        "colab": {
          "base_uri": "https://localhost:8080/",
          "height": 404
        }
      },
      "source": [
        "# PLOTTING LOSSES\n",
        "plot_loss(train_hist, val_hist)"
      ],
      "execution_count": 0,
      "outputs": [
        {
          "output_type": "display_data",
          "data": {
            "image/png": "[encoded data removed]",
            "text/plain": [
              "<Figure size 720x432 with 1 Axes>"
            ]
          },
          "metadata": {
            "tags": [],
            "needs_background": "light"
          }
        }
      ]
    },
    {
      "cell_type": "code",
      "metadata": {
        "id": "fORP6uCFDDOz",
        "colab_type": "code",
        "colab": {}
      },
      "source": [
        "# APPLYING TEST TIME TRANSFORMS\n",
        "test_tf = tta.Compose([tta.HorizontalFlip(), tta.Multiply(factors=[0.9, 1, 1.1])])\n",
        "tta_model = tta.ClassificationTTAWrapper(model, test_tf, merge_mode = 'mean')"
      ],
      "execution_count": 0,
      "outputs": []
    },
    {
      "cell_type": "code",
      "metadata": {
        "id": "Yy4eH68D3sBq",
        "colab_type": "code",
        "colab": {}
      },
      "source": [
        "testcopy = test.copy()\n",
        "prediction = test_it(tta_model, testdl, verbose=True)\n",
        "prediction.head()"
      ],
      "execution_count": 0,
      "outputs": []
    },
    {
      "cell_type": "code",
      "metadata": {
        "id": "MPBTK1QT3uYU",
        "colab_type": "code",
        "colab": {}
      },
      "source": [
        "mapper = {'Class':{0:'MIDDLE', 1:'OLD', 2:'YOUNG'}}\n",
        "prediction.replace(mapper, inplace=True)\n",
        "new_col = ['Class', 'ID']\n",
        "prediction = prediction.reindex(columns=new_col)\n",
        "prediction.head()"
      ],
      "execution_count": 0,
      "outputs": []
    },
    {
      "cell_type": "code",
      "metadata": {
        "id": "_aUBaWH0CscT",
        "colab_type": "code",
        "colab": {}
      },
      "source": [
        "prediction.to_csv('submission.csv', index=False)"
      ],
      "execution_count": 0,
      "outputs": []
    }
  ]
}