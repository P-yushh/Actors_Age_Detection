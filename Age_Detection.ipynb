{
  "nbformat": 4,
  "nbformat_minor": 0,
  "metadata": {
    "colab": {
      "name": "Untitled0.ipynb",
      "provenance": [],
      "collapsed_sections": []
    },
    "kernelspec": {
      "name": "python3",
      "display_name": "Python 3"
    },
    "widgets": {
      "application/vnd.jupyter.widget-state+json": {
        "589310de45034a2ebd8793a757476cf9": {
          "model_module": "@jupyter-widgets/controls",
          "model_name": "HBoxModel",
          "state": {
            "_view_name": "HBoxView",
            "_dom_classes": [],
            "_model_name": "HBoxModel",
            "_view_module": "@jupyter-widgets/controls",
            "_model_module_version": "1.5.0",
            "_view_count": null,
            "_view_module_version": "1.5.0",
            "box_style": "",
            "layout": "IPY_MODEL_26c3337d50044edcbd2db536f775bda0",
            "_model_module": "@jupyter-widgets/controls",
            "children": [
              "IPY_MODEL_eaa88b8e8ea44a78bda7f35abbad6eea",
              "IPY_MODEL_7afbcf2620464a54911770445d964f37"
            ]
          }
        },
        "26c3337d50044edcbd2db536f775bda0": {
          "model_module": "@jupyter-widgets/base",
          "model_name": "LayoutModel",
          "state": {
            "_view_name": "LayoutView",
            "grid_template_rows": null,
            "right": null,
            "justify_content": null,
            "_view_module": "@jupyter-widgets/base",
            "overflow": null,
            "_model_module_version": "1.2.0",
            "_view_count": null,
            "flex_flow": null,
            "width": null,
            "min_width": null,
            "border": null,
            "align_items": null,
            "bottom": null,
            "_model_module": "@jupyter-widgets/base",
            "top": null,
            "grid_column": null,
            "overflow_y": null,
            "overflow_x": null,
            "grid_auto_flow": null,
            "grid_area": null,
            "grid_template_columns": null,
            "flex": null,
            "_model_name": "LayoutModel",
            "justify_items": null,
            "grid_row": null,
            "max_height": null,
            "align_content": null,
            "visibility": null,
            "align_self": null,
            "height": null,
            "min_height": null,
            "padding": null,
            "grid_auto_rows": null,
            "grid_gap": null,
            "max_width": null,
            "order": null,
            "_view_module_version": "1.2.0",
            "grid_template_areas": null,
            "object_position": null,
            "object_fit": null,
            "grid_auto_columns": null,
            "margin": null,
            "display": null,
            "left": null
          }
        },
        "eaa88b8e8ea44a78bda7f35abbad6eea": {
          "model_module": "@jupyter-widgets/controls",
          "model_name": "FloatProgressModel",
          "state": {
            "_view_name": "ProgressView",
            "style": "IPY_MODEL_800fb41b43a14395a5e7111afa59ebab",
            "_dom_classes": [],
            "description": "100%",
            "_model_name": "FloatProgressModel",
            "bar_style": "success",
            "max": 102502400,
            "_view_module": "@jupyter-widgets/controls",
            "_model_module_version": "1.5.0",
            "value": 102502400,
            "_view_count": null,
            "_view_module_version": "1.5.0",
            "orientation": "horizontal",
            "min": 0,
            "description_tooltip": null,
            "_model_module": "@jupyter-widgets/controls",
            "layout": "IPY_MODEL_77fd0aeade2444a3abaf48b9626a6d46"
          }
        },
        "7afbcf2620464a54911770445d964f37": {
          "model_module": "@jupyter-widgets/controls",
          "model_name": "HTMLModel",
          "state": {
            "_view_name": "HTMLView",
            "style": "IPY_MODEL_97f76e59fe8a49aba8a1c67b0e6e6baa",
            "_dom_classes": [],
            "description": "",
            "_model_name": "HTMLModel",
            "placeholder": "​",
            "_view_module": "@jupyter-widgets/controls",
            "_model_module_version": "1.5.0",
            "value": " 97.8M/97.8M [00:30&lt;00:00, 3.31MB/s]",
            "_view_count": null,
            "_view_module_version": "1.5.0",
            "description_tooltip": null,
            "_model_module": "@jupyter-widgets/controls",
            "layout": "IPY_MODEL_590861c0c14f4ba6ae2658263755714f"
          }
        },
        "800fb41b43a14395a5e7111afa59ebab": {
          "model_module": "@jupyter-widgets/controls",
          "model_name": "ProgressStyleModel",
          "state": {
            "_view_name": "StyleView",
            "_model_name": "ProgressStyleModel",
            "description_width": "initial",
            "_view_module": "@jupyter-widgets/base",
            "_model_module_version": "1.5.0",
            "_view_count": null,
            "_view_module_version": "1.2.0",
            "bar_color": null,
            "_model_module": "@jupyter-widgets/controls"
          }
        },
        "77fd0aeade2444a3abaf48b9626a6d46": {
          "model_module": "@jupyter-widgets/base",
          "model_name": "LayoutModel",
          "state": {
            "_view_name": "LayoutView",
            "grid_template_rows": null,
            "right": null,
            "justify_content": null,
            "_view_module": "@jupyter-widgets/base",
            "overflow": null,
            "_model_module_version": "1.2.0",
            "_view_count": null,
            "flex_flow": null,
            "width": null,
            "min_width": null,
            "border": null,
            "align_items": null,
            "bottom": null,
            "_model_module": "@jupyter-widgets/base",
            "top": null,
            "grid_column": null,
            "overflow_y": null,
            "overflow_x": null,
            "grid_auto_flow": null,
            "grid_area": null,
            "grid_template_columns": null,
            "flex": null,
            "_model_name": "LayoutModel",
            "justify_items": null,
            "grid_row": null,
            "max_height": null,
            "align_content": null,
            "visibility": null,
            "align_self": null,
            "height": null,
            "min_height": null,
            "padding": null,
            "grid_auto_rows": null,
            "grid_gap": null,
            "max_width": null,
            "order": null,
            "_view_module_version": "1.2.0",
            "grid_template_areas": null,
            "object_position": null,
            "object_fit": null,
            "grid_auto_columns": null,
            "margin": null,
            "display": null,
            "left": null
          }
        },
        "97f76e59fe8a49aba8a1c67b0e6e6baa": {
          "model_module": "@jupyter-widgets/controls",
          "model_name": "DescriptionStyleModel",
          "state": {
            "_view_name": "StyleView",
            "_model_name": "DescriptionStyleModel",
            "description_width": "",
            "_view_module": "@jupyter-widgets/base",
            "_model_module_version": "1.5.0",
            "_view_count": null,
            "_view_module_version": "1.2.0",
            "_model_module": "@jupyter-widgets/controls"
          }
        },
        "590861c0c14f4ba6ae2658263755714f": {
          "model_module": "@jupyter-widgets/base",
          "model_name": "LayoutModel",
          "state": {
            "_view_name": "LayoutView",
            "grid_template_rows": null,
            "right": null,
            "justify_content": null,
            "_view_module": "@jupyter-widgets/base",
            "overflow": null,
            "_model_module_version": "1.2.0",
            "_view_count": null,
            "flex_flow": null,
            "width": null,
            "min_width": null,
            "border": null,
            "align_items": null,
            "bottom": null,
            "_model_module": "@jupyter-widgets/base",
            "top": null,
            "grid_column": null,
            "overflow_y": null,
            "overflow_x": null,
            "grid_auto_flow": null,
            "grid_area": null,
            "grid_template_columns": null,
            "flex": null,
            "_model_name": "LayoutModel",
            "justify_items": null,
            "grid_row": null,
            "max_height": null,
            "align_content": null,
            "visibility": null,
            "align_self": null,
            "height": null,
            "min_height": null,
            "padding": null,
            "grid_auto_rows": null,
            "grid_gap": null,
            "max_width": null,
            "order": null,
            "_view_module_version": "1.2.0",
            "grid_template_areas": null,
            "object_position": null,
            "object_fit": null,
            "grid_auto_columns": null,
            "margin": null,
            "display": null,
            "left": null
          }
        }
      }
    },
    "accelerator": "GPU"
  },
  "cells": [
    {
      "cell_type": "code",
      "metadata": {
        "id": "OIU8Wpuo6RG4",
        "colab_type": "code",
        "colab": {}
      },
      "source": [
        "import os\n",
        "import time\n",
        "import re\n",
        "import warnings\n",
        "import copy\n",
        "import cv2\n",
        "import tqdm\n",
        "import numpy as np\n",
        "import pandas as pd\n",
        "import matplotlib.pyplot as plt\n",
        "import torch\n",
        "import torch.nn as nn\n",
        "import torch.optim as optim\n",
        "import torch.functional as F\n",
        "import torchvision\n",
        "import albumentations as A\n",
        "from albumentations.pytorch import ToTensor\n",
        "from sklearn.model_selection import train_test_split\n",
        "from torch.autograd import Variable\n",
        "from torchvision import models, datasets\n",
        "from torch.utils.data import DataLoader, Dataset\n",
        "%matplotlib inline\n",
        "warnings.filterwarnings('ignore')"
      ],
      "execution_count": 0,
      "outputs": []
    },
    {
      "cell_type": "code",
      "metadata": {
        "id": "rEGyM5iodB3M",
        "colab_type": "code",
        "colab": {}
      },
      "source": [
        "def seed_everything(seed):\n",
        "  np.random.seed(seed)\n",
        "  os.environ['PYTHONHASHSEED'] = str(seed)\n",
        "  torch.manual_seed(seed)\n",
        "  if torch.cuda.is_available():\n",
        "    torch.backends.cudnn.deterministic = True\n",
        "    torch.cuda.manual_seed(seed)\n",
        "\n",
        "seed_everything(0)"
      ],
      "execution_count": 0,
      "outputs": []
    },
    {
      "cell_type": "code",
      "metadata": {
        "id": "nvrKEwcid9Zo",
        "colab_type": "code",
        "colab": {
          "base_uri": "https://localhost:8080/",
          "height": 34
        },
        "outputId": "3d31f430-caa3-4ae7-fa2e-6d1e26432076"
      },
      "source": [
        "device = torch.device('cuda' if torch.cuda.is_available else 'cpu')\n",
        "device"
      ],
      "execution_count": 4,
      "outputs": [
        {
          "output_type": "execute_result",
          "data": {
            "text/plain": [
              "device(type='cuda')"
            ]
          },
          "metadata": {
            "tags": []
          },
          "execution_count": 4
        }
      ]
    },
    {
      "cell_type": "code",
      "metadata": {
        "id": "0vNOWpOAsnWL",
        "colab_type": "code",
        "colab": {
          "base_uri": "https://localhost:8080/",
          "height": 571
        },
        "outputId": "07891d4a-faed-45c1-bcdb-012d45731fe8"
      },
      "source": [
        "# DOWNLOAD DATASETS\n",
        "!wget https://datahack-prod.s3.amazonaws.com/train_zip/train_DETg9GD.zip\n",
        "!wget https://datahack-prod.s3.amazonaws.com/test_zip/test_Bh8pGW3.zip\n",
        "!wget https://datahack-prod.s3.amazonaws.com/sample_submission/sample_submission_sDO3m7O.csv\n",
        "\n",
        "!unzip -q train_DETg9GD.zip\n",
        "!unzip -q test_Bh8pGW3.zip \n",
        "\n",
        "!rm test_Bh8pGW3.zip\n",
        "!rm train_DETg9GD.zip"
      ],
      "execution_count": 5,
      "outputs": [
        {
          "output_type": "stream",
          "text": [
            "--2020-05-23 17:19:20--  https://datahack-prod.s3.amazonaws.com/train_zip/train_DETg9GD.zip\n",
            "Resolving datahack-prod.s3.amazonaws.com (datahack-prod.s3.amazonaws.com)... 52.219.62.112\n",
            "Connecting to datahack-prod.s3.amazonaws.com (datahack-prod.s3.amazonaws.com)|52.219.62.112|:443... connected.\n",
            "HTTP request sent, awaiting response... 200 OK\n",
            "Length: 50160162 (48M) [application/zip]\n",
            "Saving to: ‘train_DETg9GD.zip’\n",
            "\n",
            "train_DETg9GD.zip   100%[===================>]  47.84M  17.9MB/s    in 2.7s    \n",
            "\n",
            "2020-05-23 17:19:24 (17.9 MB/s) - ‘train_DETg9GD.zip’ saved [50160162/50160162]\n",
            "\n",
            "--2020-05-23 17:19:26--  https://datahack-prod.s3.amazonaws.com/test_zip/test_Bh8pGW3.zip\n",
            "Resolving datahack-prod.s3.amazonaws.com (datahack-prod.s3.amazonaws.com)... 52.219.66.60\n",
            "Connecting to datahack-prod.s3.amazonaws.com (datahack-prod.s3.amazonaws.com)|52.219.66.60|:443... connected.\n",
            "HTTP request sent, awaiting response... 200 OK\n",
            "Length: 17007053 (16M) [application/zip]\n",
            "Saving to: ‘test_Bh8pGW3.zip’\n",
            "\n",
            "test_Bh8pGW3.zip    100%[===================>]  16.22M  12.4MB/s    in 1.3s    \n",
            "\n",
            "2020-05-23 17:19:28 (12.4 MB/s) - ‘test_Bh8pGW3.zip’ saved [17007053/17007053]\n",
            "\n",
            "--2020-05-23 17:19:33--  https://datahack-prod.s3.amazonaws.com/sample_submission/sample_submission_sDO3m7O.csv\n",
            "Resolving datahack-prod.s3.amazonaws.com (datahack-prod.s3.amazonaws.com)... 52.219.62.104\n",
            "Connecting to datahack-prod.s3.amazonaws.com (datahack-prod.s3.amazonaws.com)|52.219.62.104|:443... connected.\n",
            "HTTP request sent, awaiting response... 200 OK\n",
            "Length: 110124 (108K) [text/csv]\n",
            "Saving to: ‘sample_submission_sDO3m7O.csv’\n",
            "\n",
            "sample_submission_s 100%[===================>] 107.54K   327KB/s    in 0.3s    \n",
            "\n",
            "2020-05-23 17:19:33 (327 KB/s) - ‘sample_submission_sDO3m7O.csv’ saved [110124/110124]\n",
            "\n"
          ],
          "name": "stdout"
        }
      ]
    },
    {
      "cell_type": "code",
      "metadata": {
        "id": "-iyvOAqttj1F",
        "colab_type": "code",
        "colab": {
          "base_uri": "https://localhost:8080/",
          "height": 195
        },
        "outputId": "a5489695-f5b8-4477-c8a0-b672526681c7"
      },
      "source": [
        "# LOADING DATASET\n",
        "train = pd.read_csv('train.csv')\n",
        "test = pd.read_csv('test.csv')\n",
        "sample = pd.read_csv('sample_submission_sDO3m7O.csv')\n",
        "col_class = sample['Class']\n",
        "col_class = pd.DataFrame(col_class, columns=['Class'])\n",
        "test = pd.concat([test, col_class], axis=1)\n",
        "train.head()"
      ],
      "execution_count": 6,
      "outputs": [
        {
          "output_type": "execute_result",
          "data": {
            "text/html": [
              "<div>\n",
              "<style scoped>\n",
              "    .dataframe tbody tr th:only-of-type {\n",
              "        vertical-align: middle;\n",
              "    }\n",
              "\n",
              "    .dataframe tbody tr th {\n",
              "        vertical-align: top;\n",
              "    }\n",
              "\n",
              "    .dataframe thead th {\n",
              "        text-align: right;\n",
              "    }\n",
              "</style>\n",
              "<table border=\"1\" class=\"dataframe\">\n",
              "  <thead>\n",
              "    <tr style=\"text-align: right;\">\n",
              "      <th></th>\n",
              "      <th>ID</th>\n",
              "      <th>Class</th>\n",
              "    </tr>\n",
              "  </thead>\n",
              "  <tbody>\n",
              "    <tr>\n",
              "      <th>0</th>\n",
              "      <td>377.jpg</td>\n",
              "      <td>MIDDLE</td>\n",
              "    </tr>\n",
              "    <tr>\n",
              "      <th>1</th>\n",
              "      <td>17814.jpg</td>\n",
              "      <td>YOUNG</td>\n",
              "    </tr>\n",
              "    <tr>\n",
              "      <th>2</th>\n",
              "      <td>21283.jpg</td>\n",
              "      <td>MIDDLE</td>\n",
              "    </tr>\n",
              "    <tr>\n",
              "      <th>3</th>\n",
              "      <td>16496.jpg</td>\n",
              "      <td>YOUNG</td>\n",
              "    </tr>\n",
              "    <tr>\n",
              "      <th>4</th>\n",
              "      <td>4487.jpg</td>\n",
              "      <td>MIDDLE</td>\n",
              "    </tr>\n",
              "  </tbody>\n",
              "</table>\n",
              "</div>"
            ],
            "text/plain": [
              "          ID   Class\n",
              "0    377.jpg  MIDDLE\n",
              "1  17814.jpg   YOUNG\n",
              "2  21283.jpg  MIDDLE\n",
              "3  16496.jpg   YOUNG\n",
              "4   4487.jpg  MIDDLE"
            ]
          },
          "metadata": {
            "tags": []
          },
          "execution_count": 6
        }
      ]
    },
    {
      "cell_type": "code",
      "metadata": {
        "id": "EaW_uw0xbTDN",
        "colab_type": "code",
        "outputId": "7d1f996e-ca2f-43cf-aa22-03e95ad97b6b",
        "colab": {
          "base_uri": "https://localhost:8080/",
          "height": 195
        }
      },
      "source": [
        "traincpy = train.copy()\n",
        "traincpy = pd.get_dummies(traincpy, columns=['Class'], prefix='Class')\n",
        "traincpy.head()"
      ],
      "execution_count": 7,
      "outputs": [
        {
          "output_type": "execute_result",
          "data": {
            "text/html": [
              "<div>\n",
              "<style scoped>\n",
              "    .dataframe tbody tr th:only-of-type {\n",
              "        vertical-align: middle;\n",
              "    }\n",
              "\n",
              "    .dataframe tbody tr th {\n",
              "        vertical-align: top;\n",
              "    }\n",
              "\n",
              "    .dataframe thead th {\n",
              "        text-align: right;\n",
              "    }\n",
              "</style>\n",
              "<table border=\"1\" class=\"dataframe\">\n",
              "  <thead>\n",
              "    <tr style=\"text-align: right;\">\n",
              "      <th></th>\n",
              "      <th>ID</th>\n",
              "      <th>Class_MIDDLE</th>\n",
              "      <th>Class_OLD</th>\n",
              "      <th>Class_YOUNG</th>\n",
              "    </tr>\n",
              "  </thead>\n",
              "  <tbody>\n",
              "    <tr>\n",
              "      <th>0</th>\n",
              "      <td>377.jpg</td>\n",
              "      <td>1</td>\n",
              "      <td>0</td>\n",
              "      <td>0</td>\n",
              "    </tr>\n",
              "    <tr>\n",
              "      <th>1</th>\n",
              "      <td>17814.jpg</td>\n",
              "      <td>0</td>\n",
              "      <td>0</td>\n",
              "      <td>1</td>\n",
              "    </tr>\n",
              "    <tr>\n",
              "      <th>2</th>\n",
              "      <td>21283.jpg</td>\n",
              "      <td>1</td>\n",
              "      <td>0</td>\n",
              "      <td>0</td>\n",
              "    </tr>\n",
              "    <tr>\n",
              "      <th>3</th>\n",
              "      <td>16496.jpg</td>\n",
              "      <td>0</td>\n",
              "      <td>0</td>\n",
              "      <td>1</td>\n",
              "    </tr>\n",
              "    <tr>\n",
              "      <th>4</th>\n",
              "      <td>4487.jpg</td>\n",
              "      <td>1</td>\n",
              "      <td>0</td>\n",
              "      <td>0</td>\n",
              "    </tr>\n",
              "  </tbody>\n",
              "</table>\n",
              "</div>"
            ],
            "text/plain": [
              "          ID  Class_MIDDLE  Class_OLD  Class_YOUNG\n",
              "0    377.jpg             1          0            0\n",
              "1  17814.jpg             0          0            1\n",
              "2  21283.jpg             1          0            0\n",
              "3  16496.jpg             0          0            1\n",
              "4   4487.jpg             1          0            0"
            ]
          },
          "metadata": {
            "tags": []
          },
          "execution_count": 7
        }
      ]
    },
    {
      "cell_type": "code",
      "metadata": {
        "id": "WAv5FNocb1Qf",
        "colab_type": "code",
        "outputId": "c9f1c251-dd01-496d-f995-6b8939cde949",
        "colab": {
          "base_uri": "https://localhost:8080/",
          "height": 50
        }
      },
      "source": [
        "classes = np.unique(train['Class'])\n",
        "num_classes = len(classes)\n",
        "print(classes)\n",
        "print(num_classes)"
      ],
      "execution_count": 8,
      "outputs": [
        {
          "output_type": "stream",
          "text": [
            "['MIDDLE' 'OLD' 'YOUNG']\n",
            "3\n"
          ],
          "name": "stdout"
        }
      ]
    },
    {
      "cell_type": "code",
      "metadata": {
        "id": "e6HSfeCxjetJ",
        "colab_type": "code",
        "colab": {}
      },
      "source": [
        "def showimg(img, unnormalize=True):\n",
        "  if unnormalize:\n",
        "    img = img * 0.5 + 0.5\n",
        "  npimg = img.numpy()\n",
        "  plt.imshow(np.transpose(npimg, (1,2,0)))\n",
        "\n",
        "def plot_loss(train, val):\n",
        "  x = np.arange(1, len(train)+1)\n",
        "  plt.figure(figsize=(10,6))\n",
        "  plt.plot(x, train, label='Training Loss')\n",
        "  plt.plot(x, val, label='Validation Loss')\n",
        "  plt.xlabel('Epoch')\n",
        "  plt.ylabel('Loss')\n",
        "  plt.title('Training and Validation Losses!')\n",
        "  plt.legend(loc='upper right')\n",
        "  plt.show()"
      ],
      "execution_count": 0,
      "outputs": []
    },
    {
      "cell_type": "code",
      "metadata": {
        "id": "yS5fJhE1rMmN",
        "colab_type": "code",
        "colab": {}
      },
      "source": [
        "# MAKING DATALOADER\n",
        "class load_data(Dataset):\n",
        "  def __init__(self, df, root, phase):\n",
        "    self.df = df\n",
        "    self.dir = root\n",
        "    if phase == 'train':\n",
        "      self.transforms = A.Compose([A.Resize(256,256), A.RandomCrop(244,244), A.Flip(),\n",
        "                                   A.RGBShift(), A.Rotate(30), A.Blur(5), A.GaussNoise(), A.RandomBrightnessContrast(),\n",
        "                        A.Normalize([0.485, 0.456, 0.406], [0.229, 0.224, 0.225]), ToTensor()])\n",
        "    else:\n",
        "      self.transforms = A.Compose([A.Resize(256,256), A.RandomCrop(244,244), A.Normalize([0.485, 0.456, 0.406], [0.229, 0.224, 0.225]), ToTensor()])\n",
        "\n",
        "  def __len__(self):\n",
        "    return len(self.df)\n",
        "\n",
        "  def __getitem__(self, idx):\n",
        "    img_id = self.df['ID'].iloc[idx]\n",
        "    img_path = os.path.join(self.dir, str(img_id))\n",
        "    labels = self.df.iloc[idx, 1:].to_numpy()\n",
        "    labels = np.argmax(labels)\n",
        "    img = plt.imread(img_path)\n",
        "    img = self.transforms(image=np.array(img))['image']\n",
        "    return img, labels"
      ],
      "execution_count": 0,
      "outputs": []
    },
    {
      "cell_type": "code",
      "metadata": {
        "id": "zqerqmEtd6tA",
        "colab_type": "code",
        "colab": {}
      },
      "source": [
        "batch_size = 128"
      ],
      "execution_count": 0,
      "outputs": []
    },
    {
      "cell_type": "code",
      "metadata": {
        "id": "Iq5q3YEaTj80",
        "colab_type": "code",
        "colab": {}
      },
      "source": [
        "#DEFINING DATALOADER\n",
        "train, val = train_test_split(traincpy, test_size = 0.3)\n",
        "trainset = load_data(train, 'Train', 'train')\n",
        "valset = load_data(val, 'Train', 'eval')\n",
        "testset = load_data(test, 'Test', 'eval')\n",
        "tdl = DataLoader(trainset, batch_size=batch_size, shuffle=True, pin_memory=True, num_workers=4)\n",
        "vdl = DataLoader(valset, batch_size=batch_size, shuffle=False, pin_memory=True, num_workers=4)\n",
        "testdl = DataLoader(testset, batch_size=batch_size, shuffle=False, pin_memory=True, num_workers=4)"
      ],
      "execution_count": 0,
      "outputs": []
    },
    {
      "cell_type": "code",
      "metadata": {
        "id": "nzmtnf2jlTGE",
        "colab_type": "code",
        "outputId": "b3870cbf-be8f-4aba-b3b5-153e6088f643",
        "colab": {
          "base_uri": "https://localhost:8080/",
          "height": 170
        }
      },
      "source": [
        "# SHOWING IMAGES (ONLY 4 FOR BREVITY)\n",
        "images, label = next(iter(tdl))\n",
        "showimg(torchvision.utils.make_grid(images))\n",
        "print(' '.join('{:>10}'.format(classes[label[j]]) for j in range(batch_size)))"
      ],
      "execution_count": 35,
      "outputs": [
        {
          "output_type": "stream",
          "text": [
            "Clipping input data to the valid range for imshow with RGB data ([0..1] for floats or [0..255] for integers).\n"
          ],
          "name": "stderr"
        },
        {
          "output_type": "stream",
          "text": [
            "    MIDDLE      YOUNG     MIDDLE     MIDDLE\n"
          ],
          "name": "stdout"
        },
        {
          "output_type": "display_data",
          "data": {
            "image/png": "[encoded data removed]",
            "text/plain": [
              "<Figure size 432x288 with 1 Axes>"
            ]
          },
          "metadata": {
            "tags": [],
            "needs_background": "light"
          }
        }
      ]
    },
    {
      "cell_type": "code",
      "metadata": {
        "id": "cpEDKzkFpUBv",
        "colab_type": "code",
        "colab": {}
      },
      "source": [
        "#DEFINING TRAINER\n",
        "def train_it(model, dataloader, criterion, optimizer, scheduler, epochs, verbose=False, print_every=25):\n",
        "  since = time.time()\n",
        "  train_history = []\n",
        "  val_history = []\n",
        "  model.train()\n",
        "  best_model = model.state_dict()\n",
        "  train_ldr = dataloader['train']\n",
        "  val_ldr = dataloader['val']\n",
        "  for epoch in range(1, epochs+1):\n",
        "    print('Epoch: {} of {}'.format(epoch, epochs))\n",
        "    start = time.time()\n",
        "    total_train_loss = 0.0\n",
        "    running_acc = 0.0\n",
        "    for i, (img, labels) in enumerate(dataloader['train']):\n",
        "      img, labels = img.to(device), labels.to(device)\n",
        "      optimizer.zero_grad()\n",
        "\n",
        "      score = model(img)\n",
        "      loss = criterion(score, labels)\n",
        "      loss.backward()\n",
        "      optimizer.step()\n",
        "      _, pred = torch.max(score, dim=1)\n",
        "      running_acc += torch.sum(pred==labels.data)\n",
        "      \n",
        "      total_train_loss += loss.item()*img.size(0)\n",
        "\n",
        "      if (i) % (print_every) == 0 and verbose:    \n",
        "                print(\"Completed {:d}% of 100%\".format(int(100 * (i) / len(dataloader['train']))))\n",
        "\n",
        "    epoch_train_acc = running_acc.double() / len(dataloader['train'].dataset)\n",
        "    timer = time.time() - start\n",
        "    print('Train Loss: {:.4f} \\t Train accuracy: {:.4f} \\t took {}m {}s'.format(total_train_loss / len(dataloader['train'].dataset),\n",
        "                                                             epoch_train_acc.item(), timer/60, timer%60))\n",
        "    train_history.append(total_train_loss / len(dataloader['train'].dataset))\n",
        "\n",
        "    # EVALUATING NOW...\n",
        "\n",
        "    model.eval()\n",
        "    total_val_loss = 0.0\n",
        "    best_loss = np.inf\n",
        "    running_val_acc = 0.0\n",
        "    with torch.no_grad():\n",
        "      for (img, labels) in dataloader['val']:\n",
        "        img, labels = img.to(device), labels.to(device)\n",
        "        val_score = model(img)\n",
        "        val_loss = criterion(val_score, labels)\n",
        "        total_val_loss += val_loss.item() * img.size(0)\n",
        "        _, vpred = torch.max(val_score, dim=1)\n",
        "        running_val_acc += torch.sum(vpred==labels.data)\n",
        "      \n",
        "    epoch_val_loss = total_val_loss / len(dataloader['val'].dataset)\n",
        "    val_history.append(epoch_val_loss)\n",
        "    val_acc = running_val_acc / len(dataloader['val'].dataset)\n",
        "    state = {'epoch':epoch, 'best_loss':best_loss,\n",
        "             'state':model.state_dict(), 'optimizer':optimizer.state_dict(),\n",
        "             'scheduler':scheduler.state_dict()}\n",
        "    if scheduler:\n",
        "      scheduler.step(epoch_val_loss)\n",
        "    if epoch_val_loss < best_loss:\n",
        "      state['best_loss'] = best_loss = epoch_val_loss\n",
        "      torch.save(state, 'model.pth')\n",
        "      best_model = model.state_dict()\n",
        "    \n",
        "    print(\"Validation loss = {:.4f} \\t Validation accuracy = {}\".format(epoch_val_loss, val_acc))\n",
        "    print('```````````````````````````````````````````````````````````')\n",
        "  timer = time.time() - since)\n",
        "  print(\"Training Finished, took {}m {}s\".format(timer/60, timer%60))\n",
        "\n",
        "  #model.load_state_dict(torch.load('model.pth')\n",
        "  return best_model, train_history, val_history"
      ],
      "execution_count": 0,
      "outputs": []
    },
    {
      "cell_type": "code",
      "metadata": {
        "id": "pICLcJEXkyXx",
        "colab_type": "code",
        "outputId": "7e9e9ca4-bf92-4059-c3b5-d754834fcc85",
        "colab": {
          "base_uri": "https://localhost:8080/",
          "height": 790
        }
      },
      "source": [
        "best_model, train_hist, val_hist = train_it(model,  dataldr, criterion, optimizer, scheduler, 5, verbose=True)"
      ],
      "execution_count": 74,
      "outputs": [
        {
          "output_type": "stream",
          "text": [
            "Epoch: 1 of 5\n",
            "Completed 0% of 100%\n",
            "Completed 22% of 100%\n",
            "Completed 45% of 100%\n",
            "Completed 68% of 100%\n",
            "Completed 91% of 100%\n",
            "Train Loss: 0.9106 \t Train accuracy: 0.6307 \t took 100.09s\n",
            "Validation loss = 0.8889 \t Validation accuracy = 0.6552243828773499\n",
            "```````````````````````````````````````````````````````````\n",
            "Epoch: 2 of 5\n",
            "Completed 0% of 100%\n",
            "Completed 22% of 100%\n",
            "Completed 45% of 100%\n",
            "Completed 68% of 100%\n",
            "Completed 91% of 100%\n",
            "Train Loss: 0.9014 \t Train accuracy: 0.6399 \t took 98.94s\n",
            "Validation loss = 0.8827 \t Validation accuracy = 0.6615874171257019\n",
            "```````````````````````````````````````````````````````````\n",
            "Epoch: 3 of 5\n",
            "Completed 0% of 100%\n",
            "Completed 22% of 100%\n",
            "Completed 45% of 100%\n",
            "Completed 68% of 100%\n",
            "Completed 91% of 100%\n",
            "Train Loss: 0.8966 \t Train accuracy: 0.6448 \t took 98.15s\n",
            "Validation loss = 0.8788 \t Validation accuracy = 0.663931667804718\n",
            "```````````````````````````````````````````````````````````\n",
            "Epoch: 4 of 5\n",
            "Completed 0% of 100%\n",
            "Completed 22% of 100%\n",
            "Completed 45% of 100%\n",
            "Completed 68% of 100%\n",
            "Completed 91% of 100%\n",
            "Train Loss: 0.8952 \t Train accuracy: 0.6461 \t took 99.51s\n",
            "Validation loss = 0.8785 \t Validation accuracy = 0.6640990972518921\n",
            "```````````````````````````````````````````````````````````\n",
            "Epoch: 5 of 5\n",
            "Completed 0% of 100%\n",
            "Completed 22% of 100%\n",
            "Completed 45% of 100%\n",
            "Completed 68% of 100%\n",
            "Completed 91% of 100%\n",
            "Train Loss: 0.8981 \t Train accuracy: 0.6421 \t took 101.27s\n",
            "Validation loss = 0.8801 \t Validation accuracy = 0.6625921130180359\n",
            "```````````````````````````````````````````````````````````\n",
            "Training Finished, took 595.72s\n"
          ],
          "name": "stdout"
        }
      ]
    },
    {
      "cell_type": "code",
      "metadata": {
        "id": "dFbG4Gaao7pk",
        "colab_type": "code",
        "colab": {}
      },
      "source": [
        "def test_it(model, testldr, verbose=False):\n",
        "  model.eval()\n",
        "  final_pred = []\n",
        "  with torch.no_grad():\n",
        "    for (img, label) in testldr:\n",
        "      img, label = img.to(device), label.to(device)\n",
        "      output = model(img)\n",
        "      _, pred = torch.max(output, dim=1)\n",
        "      final_pred.append(pred.cpu().numpy().data)\n",
        "    if verbose:\n",
        "      print('Done evaluating, finishing up...')\n",
        "    final_pred = np.concatenate(final_pred)\n",
        "    testcopy['Class'] = final_pred\n",
        "  return testcopy"
      ],
      "execution_count": 0,
      "outputs": []
    },
    {
      "cell_type": "code",
      "metadata": {
        "id": "HI3m7nbJl5WS",
        "colab_type": "code",
        "outputId": "1ca7f049-f116-46c5-d9b4-7e8b73837eb5",
        "colab": {
          "base_uri": "https://localhost:8080/",
          "height": 82,
          "referenced_widgets": [
            "589310de45034a2ebd8793a757476cf9",
            "26c3337d50044edcbd2db536f775bda0",
            "eaa88b8e8ea44a78bda7f35abbad6eea",
            "7afbcf2620464a54911770445d964f37",
            "800fb41b43a14395a5e7111afa59ebab",
            "77fd0aeade2444a3abaf48b9626a6d46",
            "97f76e59fe8a49aba8a1c67b0e6e6baa",
            "590861c0c14f4ba6ae2658263755714f"
          ]
        }
      },
      "source": [
        "# DEFINING MODEL\n",
        "model = models.resnet50(pretrained=True)\n",
        "for param in model.parameters():\n",
        "  param.requires_grad = False\n",
        "model_classes = model.fc.in_features"
      ],
      "execution_count": 16,
      "outputs": [
        {
          "output_type": "stream",
          "text": [
            "Downloading: \"https://download.pytorch.org/models/resnet50-19c8e357.pth\" to /root/.cache/torch/checkpoints/resnet50-19c8e357.pth\n"
          ],
          "name": "stderr"
        },
        {
          "output_type": "display_data",
          "data": {
            "application/vnd.jupyter.widget-view+json": {
              "model_id": "589310de45034a2ebd8793a757476cf9",
              "version_minor": 0,
              "version_major": 2
            },
            "text/plain": [
              "HBox(children=(FloatProgress(value=0.0, max=102502400.0), HTML(value='')))"
            ]
          },
          "metadata": {
            "tags": []
          }
        },
        {
          "output_type": "stream",
          "text": [
            "\n"
          ],
          "name": "stdout"
        }
      ]
    },
    {
      "cell_type": "code",
      "metadata": {
        "id": "HDaNwe45msN3",
        "colab_type": "code",
        "colab": {}
      },
      "source": [
        "model.fc = nn.Sequential(nn.Linear(model_classes, num_classes*4), nn.Dropout(0.2), nn.ReLU(), nn.Linear(num_classes*4, num_classes), nn.Softmax())\n",
        "model = model.to(device)\n",
        "optimizer = optim.Adam(model.fc.parameters(), lr=2e-3, betas=(0.9, 0.999),weight_decay=0.001)\n",
        "criterion = nn.CrossEntropyLoss()\n",
        "scheduler = optim.lr_scheduler.ReduceLROnPlateau(optimizer, factor=0.5, mode='min', threshold=0.01 patience=3)\n",
        "dataldr = {'train': tdl, 'val':vdl}"
      ],
      "execution_count": 0,
      "outputs": []
    },
    {
      "cell_type": "code",
      "metadata": {
        "id": "sTai1aB7kdTn",
        "colab_type": "code",
        "colab": {
          "base_uri": "https://localhost:8080/",
          "height": 404
        },
        "outputId": "d537dd32-2861-4dae-a0a5-16647d129cce"
      },
      "source": [
        "# PLOTTING LOSSES\n",
        "plot_loss(train_hist, val_hist)"
      ],
      "execution_count": 75,
      "outputs": [
        {
          "output_type": "display_data",
          "data": {
            "image/png": "[encoded data removed]",
            "text/plain": [
              "<Figure size 720x432 with 1 Axes>"
            ]
          },
          "metadata": {
            "tags": [],
            "needs_background": "light"
          }
        }
      ]
    },
    {
      "cell_type": "code",
      "metadata": {
        "id": "8LEbr5k2sPxP",
        "colab_type": "code",
        "colab": {
          "base_uri": "https://localhost:8080/",
          "height": 212
        },
        "outputId": "a0a240b7-ae4b-4d80-8f91-de244796d9f7"
      },
      "source": [
        "testcopy = test.copy()\n",
        "prediction = test_it(model, testdl, verbose=True)\n",
        "prediction.head()"
      ],
      "execution_count": 79,
      "outputs": [
        {
          "output_type": "stream",
          "text": [
            "Done evaluating, finishing up...\n"
          ],
          "name": "stdout"
        },
        {
          "output_type": "execute_result",
          "data": {
            "text/html": [
              "<div>\n",
              "<style scoped>\n",
              "    .dataframe tbody tr th:only-of-type {\n",
              "        vertical-align: middle;\n",
              "    }\n",
              "\n",
              "    .dataframe tbody tr th {\n",
              "        vertical-align: top;\n",
              "    }\n",
              "\n",
              "    .dataframe thead th {\n",
              "        text-align: right;\n",
              "    }\n",
              "</style>\n",
              "<table border=\"1\" class=\"dataframe\">\n",
              "  <thead>\n",
              "    <tr style=\"text-align: right;\">\n",
              "      <th></th>\n",
              "      <th>ID</th>\n",
              "      <th>Class</th>\n",
              "    </tr>\n",
              "  </thead>\n",
              "  <tbody>\n",
              "    <tr>\n",
              "      <th>0</th>\n",
              "      <td>25321.jpg</td>\n",
              "      <td>2</td>\n",
              "    </tr>\n",
              "    <tr>\n",
              "      <th>1</th>\n",
              "      <td>989.jpg</td>\n",
              "      <td>2</td>\n",
              "    </tr>\n",
              "    <tr>\n",
              "      <th>2</th>\n",
              "      <td>19277.jpg</td>\n",
              "      <td>0</td>\n",
              "    </tr>\n",
              "    <tr>\n",
              "      <th>3</th>\n",
              "      <td>13093.jpg</td>\n",
              "      <td>0</td>\n",
              "    </tr>\n",
              "    <tr>\n",
              "      <th>4</th>\n",
              "      <td>5367.jpg</td>\n",
              "      <td>0</td>\n",
              "    </tr>\n",
              "  </tbody>\n",
              "</table>\n",
              "</div>"
            ],
            "text/plain": [
              "          ID  Class\n",
              "0  25321.jpg      2\n",
              "1    989.jpg      2\n",
              "2  19277.jpg      0\n",
              "3  13093.jpg      0\n",
              "4   5367.jpg      0"
            ]
          },
          "metadata": {
            "tags": []
          },
          "execution_count": 79
        }
      ]
    },
    {
      "cell_type": "code",
      "metadata": {
        "id": "bdUjr5QD1d0p",
        "colab_type": "code",
        "colab": {}
      },
      "source": [
        "mapper = {'Class':{0:'MIDDLE', 1:'OLD', 2:'YOUNG'}}\n",
        "prediction.replace(mapper, inplace=True)\n",
        "new_col = ['Class', 'ID']\n",
        "prediction = prediction.reindex(columns=new_col)\n",
        "prediction.head()"
      ],
      "execution_count": 0,
      "outputs": []
    },
    {
      "cell_type": "code",
      "metadata": {
        "id": "_aUBaWH0CscT",
        "colab_type": "code",
        "colab": {}
      },
      "source": [
        "prediction.to_csv('submission.csv', index=False)"
      ],
      "execution_count": 0,
      "outputs": []
    }
  ]
}
